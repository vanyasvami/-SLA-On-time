{
 "cells": [
  {
   "cell_type": "code",
   "execution_count": 1,
   "id": "f10be7a0",
   "metadata": {},
   "outputs": [],
   "source": [
    "import pandas as pd\n",
    "import matplotlib.pyplot as plt\n",
    "import numpy as np\n",
    "from scipy import stats as st"
   ]
  },
  {
   "cell_type": "code",
   "execution_count": 2,
   "id": "a06f861c",
   "metadata": {},
   "outputs": [],
   "source": [
    "data_april = pd.DataFrame({\n",
    "    'Date_of_arrived': ['45402','45402','45402','45401','45398','45403','45399','45398','45405','45404','45398','45411','45411','45412','45412','45412','45411','45414','45414','45414','45409','45409','45411','45409','45409','45406','45406','45408','45407','45406','45406','45406','45406','45417','45424','45421','45424','45421','45423','45420','45424','45425','45428','45429','45423','45428','45428','45423','45423','45423','45429','45430','45423','45421','45423','45427'],\n",
    "    'Amount_of_days_1':['14','14','14','17','21','16','20','21','14','15','21','14','14','13','13','13','14','13','13','13','19','19','17','19','19','23','23','21','22','23','23','23','23','15','12','15','12','15','13','16','12','11','15','14','20','15','15','20','20','20','14','13','20','22','20','16'],\n",
    "    'Amount_of_days_2':['1','1','1','2','4','2','4','4','2','2','4','2','2','2','2','2','2','1','1','1','1','1','1','1','1','1','1','1','1','1','1','1','1','1','0','4','0','4','0','4','0','0','1','1','1','1','1','1','1','1','1','2','1','1','1','1']\n",
    "})"
   ]
  },
  {
   "cell_type": "code",
   "execution_count": 3,
   "id": "d7b0eef1",
   "metadata": {},
   "outputs": [
    {
     "name": "stdout",
     "output_type": "stream",
     "text": [
      "<class 'pandas.core.frame.DataFrame'>\n",
      "RangeIndex: 56 entries, 0 to 55\n",
      "Data columns (total 3 columns):\n",
      " #   Column            Non-Null Count  Dtype \n",
      "---  ------            --------------  ----- \n",
      " 0   Date_of_arrived   56 non-null     object\n",
      " 1   Amount_of_days_1  56 non-null     object\n",
      " 2   Amount_of_days_2  56 non-null     object\n",
      "dtypes: object(3)\n",
      "memory usage: 1.4+ KB\n"
     ]
    }
   ],
   "source": [
    "data_april.info()"
   ]
  },
  {
   "cell_type": "code",
   "execution_count": 4,
   "id": "f36796a1",
   "metadata": {},
   "outputs": [],
   "source": [
    "data_april_sorted = data_april.sort_values(by='Date_of_arrived')"
   ]
  },
  {
   "cell_type": "code",
   "execution_count": 5,
   "id": "e3b8fd21",
   "metadata": {},
   "outputs": [],
   "source": [
    "# Преобразование столбца \"Date of pick up\" в числовой формат (если необходимо)\n",
    "data_april['Date_of_arrived'] = pd.to_numeric(data_april['Date_of_arrived'], errors='coerce')\n",
    "\n",
    "# Преобразование числовых значений в формат даты с использованием параметров unit и origin\n",
    "data_april['Date_of_arrived'] = pd.to_datetime(data_april['Date_of_arrived'], unit='D', origin='1899-12-30')\n"
   ]
  },
  {
   "cell_type": "code",
   "execution_count": 6,
   "id": "8081315a",
   "metadata": {},
   "outputs": [],
   "source": [
    "data_april['Amount_of_days_2'] = pd.to_numeric(data_april['Amount_of_days_2'], errors='coerce')\n",
    "data_april['Amount_of_days_1'] = pd.to_numeric(data_april['Amount_of_days_1'], errors='coerce')"
   ]
  },
  {
   "cell_type": "code",
   "execution_count": 7,
   "id": "8fff2328",
   "metadata": {},
   "outputs": [
    {
     "name": "stdout",
     "output_type": "stream",
     "text": [
      "<class 'pandas.core.frame.DataFrame'>\n",
      "RangeIndex: 56 entries, 0 to 55\n",
      "Data columns (total 3 columns):\n",
      " #   Column            Non-Null Count  Dtype         \n",
      "---  ------            --------------  -----         \n",
      " 0   Date_of_arrived   56 non-null     datetime64[ns]\n",
      " 1   Amount_of_days_1  56 non-null     int64         \n",
      " 2   Amount_of_days_2  56 non-null     int64         \n",
      "dtypes: datetime64[ns](1), int64(2)\n",
      "memory usage: 1.4 KB\n"
     ]
    }
   ],
   "source": [
    "data_april.info()"
   ]
  },
  {
   "cell_type": "code",
   "execution_count": 8,
   "id": "6b52bdec",
   "metadata": {},
   "outputs": [
    {
     "data": {
      "text/html": [
       "<div>\n",
       "<style scoped>\n",
       "    .dataframe tbody tr th:only-of-type {\n",
       "        vertical-align: middle;\n",
       "    }\n",
       "\n",
       "    .dataframe tbody tr th {\n",
       "        vertical-align: top;\n",
       "    }\n",
       "\n",
       "    .dataframe thead th {\n",
       "        text-align: right;\n",
       "    }\n",
       "</style>\n",
       "<table border=\"1\" class=\"dataframe\">\n",
       "  <thead>\n",
       "    <tr style=\"text-align: right;\">\n",
       "      <th></th>\n",
       "      <th>Date_of_arrived</th>\n",
       "      <th>Amount_of_days_1</th>\n",
       "      <th>Amount_of_days_2</th>\n",
       "    </tr>\n",
       "  </thead>\n",
       "  <tbody>\n",
       "    <tr>\n",
       "      <th>0</th>\n",
       "      <td>2024-04-20</td>\n",
       "      <td>14</td>\n",
       "      <td>1</td>\n",
       "    </tr>\n",
       "    <tr>\n",
       "      <th>1</th>\n",
       "      <td>2024-04-20</td>\n",
       "      <td>14</td>\n",
       "      <td>1</td>\n",
       "    </tr>\n",
       "    <tr>\n",
       "      <th>2</th>\n",
       "      <td>2024-04-20</td>\n",
       "      <td>14</td>\n",
       "      <td>1</td>\n",
       "    </tr>\n",
       "    <tr>\n",
       "      <th>3</th>\n",
       "      <td>2024-04-19</td>\n",
       "      <td>17</td>\n",
       "      <td>2</td>\n",
       "    </tr>\n",
       "    <tr>\n",
       "      <th>4</th>\n",
       "      <td>2024-04-16</td>\n",
       "      <td>21</td>\n",
       "      <td>4</td>\n",
       "    </tr>\n",
       "  </tbody>\n",
       "</table>\n",
       "</div>"
      ],
      "text/plain": [
       "  Date_of_arrived  Amount_of_days_1  Amount_of_days_2\n",
       "0      2024-04-20                14                 1\n",
       "1      2024-04-20                14                 1\n",
       "2      2024-04-20                14                 1\n",
       "3      2024-04-19                17                 2\n",
       "4      2024-04-16                21                 4"
      ]
     },
     "execution_count": 8,
     "metadata": {},
     "output_type": "execute_result"
    }
   ],
   "source": [
    "data_april.head()"
   ]
  },
  {
   "cell_type": "code",
   "execution_count": 9,
   "id": "d78a8d4f",
   "metadata": {},
   "outputs": [
    {
     "data": {
      "image/png": "[encoded data removed]",
      "text/plain": [
       "<Figure size 432x288 with 1 Axes>"
      ]
     },
     "metadata": {},
     "output_type": "display_data"
    }
   ],
   "source": [
    "# Создание категорий 'delay' и 'on time'\n",
    "data_april['Category'] = data_april['Amount_of_days_2'].apply(lambda x: 'on time' if x <= 1 else 'delay')\n",
    "\n",
    "# Подсчет количества поставок в каждой категории\n",
    "category_counts = data_april['Category'].value_counts()\n",
    "\n",
    "# Построение круговой диаграммы\n",
    "fig, ax = plt.subplots()\n",
    "ax.pie(category_counts, labels=category_counts.index, autopct='%1.1f%%', startangle=90)\n",
    "ax.axis('equal')  # Equal aspect ratio ensures that pie is drawn as a circle.\n",
    "\n",
    "# Настройка заголовка\n",
    "plt.title('Percentage of On Time and Delayed Deliveries (1P)')\n",
    "\n",
    "# Показать диаграмму\n",
    "plt.show()"
   ]
  },
  {
   "cell_type": "code",
   "execution_count": 10,
   "id": "46bbbdea",
   "metadata": {},
   "outputs": [
    {
     "data": {
      "image/png": "[encoded data removed]",
      "text/plain": [
       "<Figure size 1800x1080 with 1 Axes>"
      ]
     },
     "metadata": {
      "needs_background": "light"
     },
     "output_type": "display_data"
    }
   ],
   "source": [
    "data_april_sorted = data_april.sort_values(by='Date_of_arrived')\n",
    "\n",
    "# Вычисление среднего значения для Amount_of_days_2\n",
    "april_average_2 = data_april_sorted['Amount_of_days_1'].mean()\n",
    "april_average_1 = data_april_sorted['Amount_of_days_2'].mean()\n",
    "\n",
    "# Создание фигуры для графика\n",
    "plt.figure(figsize=(25, 15))\n",
    "\n",
    "# Построение графика для апреля\n",
    "plt.plot(data_april_sorted['Date_of_arrived'], data_april_sorted['Amount_of_days_1'], marker='s', linestyle='-', color='blue', label='WH - ATA')\n",
    "plt.plot(data_april_sorted['Date_of_arrived'], data_april_sorted['Amount_of_days_2'], marker='s', linestyle='-', color='red', label='ATA - ATA at BWH')\n",
    "\n",
    "# Добавление среднего значения для 'Amount_of_days_2'\n",
    "plt.axhline(y=april_average_2, color='darkorange', linestyle='--', label=f'Average WH - ATA: {april_average_2:.2f}')\n",
    "\n",
    "plt.axhline(y=april_average_1, color='green', linestyle='--', label=f'Average ATA - ATA at BWH: {april_average_1:.2f}')\n",
    "\n",
    "\n",
    "# Добавление заголовка и подписей осей\n",
    "plt.title('Transit Time 3P Land (May)', fontsize=16)\n",
    "plt.xlabel('Date of consolidation WH', fontsize=14)\n",
    "plt.ylabel('Number of Days', fontsize=14)\n",
    "\n",
    "# Включение сетки с меньшей интенсивностью\n",
    "plt.grid(alpha=0.5)\n",
    "\n",
    "# Включение легенды\n",
    "plt.legend(fontsize=12)\n",
    "\n",
    "# Включение подписей по оси X с каждой датой в формате 'YYYY-MM-DD'\n",
    "date_labels = data_april_sorted['Date_of_arrived'].dt.strftime('%Y-%m-%d')\n",
    "plt.xticks(ticks=data_april_sorted['Date_of_arrived'], labels=date_labels, rotation=90)\n",
    "\n",
    "# Добавление точек данных с количеством записей по дате\n",
    "for date, group in data_april_sorted.groupby('Date_of_arrived'):\n",
    "    count = len(group)\n",
    "    plt.text(date, group['Amount_of_days_2'].max() + 0.1, f'{count}', ha='center', va='bottom', fontsize=12, fontweight='bold', color='black', bbox=dict(facecolor='white', alpha=0.5))\n",
    "\n",
    "plt.tight_layout()\n",
    "plt.show()"
   ]
  },
  {
   "cell_type": "code",
   "execution_count": 11,
   "id": "81f30795",
   "metadata": {},
   "outputs": [
    {
     "data": {
      "image/png": "[encoded data removed]",
      "text/plain": [
       "<Figure size 1080x360 with 1 Axes>"
      ]
     },
     "metadata": {
      "needs_background": "light"
     },
     "output_type": "display_data"
    }
   ],
   "source": [
    "data_april_sorted = data_april.sort_values(by='Date_of_arrived')\n",
    "\n",
    "# Вычисление среднего значения для Amount_of_days_2\n",
    "april_average_2 = data_april_sorted['Amount_of_days_2'].mean()\n",
    "\n",
    "# Создание фигуры для графика\n",
    "plt.figure(figsize=(15, 5))\n",
    "\n",
    "# Построение графика для апреля\n",
    "plt.plot(data_april_sorted['Date_of_arrived'], data_april_sorted['Amount_of_days_2'], marker='s', linestyle='-', color='crimson', label='ATA - ATA at BWH')\n",
    "\n",
    "# Добавление среднего значения для 'Amount_of_days_2'\n",
    "plt.axhline(y=april_average_2, color='darkorange', linestyle='--', label=f'Average: {april_average_2:.2f}')\n",
    "\n",
    "\n",
    "# Добавление заголовка и подписей осей\n",
    "plt.title('ATA - At BWH (3P air)', fontsize=16)\n",
    "plt.xlabel('Date of Arrived', fontsize=14)\n",
    "plt.ylabel('Number of Days', fontsize=14)\n",
    "\n",
    "# Включение сетки с меньшей интенсивностью\n",
    "plt.grid(alpha=0.5)\n",
    "\n",
    "# Включение легенды\n",
    "plt.legend(fontsize=12)\n",
    "\n",
    "# Включение подписей по оси X с каждой датой в формате 'YYYY-MM-DD'\n",
    "date_labels = data_april_sorted['Date_of_arrived'].dt.strftime('%Y-%m-%d %A') # добавление названия дня недели\n",
    "plt.xticks(ticks=data_april_sorted['Date_of_arrived'], labels=date_labels, rotation=75)\n",
    "\n",
    "# Добавление точек данных с количеством записей по дате\n",
    "for date, group in data_april_sorted.groupby('Date_of_arrived'):\n",
    "    count = len(group)\n",
    "    plt.text(date, group['Amount_of_days_2'].max() + 0.1, f'{count}', ha='center', va='bottom', fontsize=12, fontweight='bold', color='black', bbox=dict(facecolor='white', alpha=0.5), horizontalalignment='left')\n",
    "\n",
    "plt.tight_layout()\n",
    "plt.show()"
   ]
  }
 ],
 "metadata": {
  "ExecuteTimeLog": [
   {
    "duration": 1303,
    "start_time": "2024-05-03T12:39:28.091Z"
   },
   {
    "duration": 88,
    "start_time": "2024-05-03T12:54:32.943Z"
   },
   {
    "duration": 11,
    "start_time": "2024-05-03T12:54:48.919Z"
   },
   {
    "duration": 9,
    "start_time": "2024-05-03T12:56:05.576Z"
   },
   {
    "duration": 10,
    "start_time": "2024-05-03T12:56:09.400Z"
   },
   {
    "duration": 12,
    "start_time": "2024-05-03T12:56:19.370Z"
   },
   {
    "duration": 242,
    "start_time": "2024-05-03T12:59:23.600Z"
   },
   {
    "duration": 10,
    "start_time": "2024-05-03T12:59:24.580Z"
   },
   {
    "duration": 10,
    "start_time": "2024-05-03T12:59:48.117Z"
   },
   {
    "duration": 11,
    "start_time": "2024-05-03T12:59:48.702Z"
   },
   {
    "duration": 847,
    "start_time": "2024-05-03T13:00:19.682Z"
   },
   {
    "duration": 0,
    "start_time": "2024-05-03T13:00:20.530Z"
   },
   {
    "duration": 5,
    "start_time": "2024-05-03T13:00:32.245Z"
   },
   {
    "duration": 11,
    "start_time": "2024-05-03T13:00:33.176Z"
   },
   {
    "duration": 8,
    "start_time": "2024-05-03T13:00:35.997Z"
   },
   {
    "duration": 173,
    "start_time": "2024-05-03T13:02:32.865Z"
   },
   {
    "duration": 11,
    "start_time": "2024-05-03T13:02:33.766Z"
   },
   {
    "duration": 736,
    "start_time": "2024-05-03T13:02:33.979Z"
   },
   {
    "duration": 0,
    "start_time": "2024-05-03T13:02:34.716Z"
   },
   {
    "duration": 0,
    "start_time": "2024-05-03T13:02:34.718Z"
   },
   {
    "duration": 0,
    "start_time": "2024-05-03T13:02:34.719Z"
   },
   {
    "duration": 7,
    "start_time": "2024-05-03T13:02:56.848Z"
   },
   {
    "duration": 6,
    "start_time": "2024-05-03T13:02:58.491Z"
   },
   {
    "duration": 9,
    "start_time": "2024-05-03T13:02:59.256Z"
   },
   {
    "duration": 7,
    "start_time": "2024-05-03T13:03:01.443Z"
   },
   {
    "duration": 326,
    "start_time": "2024-05-03T13:06:49.037Z"
   },
   {
    "duration": 666,
    "start_time": "2024-05-03T13:07:10.325Z"
   },
   {
    "duration": 568,
    "start_time": "2024-05-03T13:08:25.438Z"
   },
   {
    "duration": 3,
    "start_time": "2024-05-03T13:08:49.937Z"
   },
   {
    "duration": 184,
    "start_time": "2024-05-03T13:08:49.947Z"
   },
   {
    "duration": 35,
    "start_time": "2024-05-03T13:08:50.133Z"
   },
   {
    "duration": 21,
    "start_time": "2024-05-03T13:08:50.170Z"
   },
   {
    "duration": 25,
    "start_time": "2024-05-03T13:08:50.192Z"
   },
   {
    "duration": 33,
    "start_time": "2024-05-03T13:08:50.218Z"
   },
   {
    "duration": 23,
    "start_time": "2024-05-03T13:08:50.252Z"
   },
   {
    "duration": 587,
    "start_time": "2024-05-03T13:08:50.277Z"
   },
   {
    "duration": 486,
    "start_time": "2024-05-03T13:10:20.186Z"
   },
   {
    "duration": 4,
    "start_time": "2024-05-03T13:12:08.102Z"
   },
   {
    "duration": 250,
    "start_time": "2024-05-03T13:12:08.881Z"
   },
   {
    "duration": 0,
    "start_time": "2024-05-03T13:12:09.132Z"
   },
   {
    "duration": 13,
    "start_time": "2024-05-03T13:12:09.218Z"
   },
   {
    "duration": 6,
    "start_time": "2024-05-03T13:12:09.383Z"
   },
   {
    "duration": 410,
    "start_time": "2024-05-03T13:12:09.841Z"
   },
   {
    "duration": 3,
    "start_time": "2024-05-03T13:12:37.338Z"
   },
   {
    "duration": 184,
    "start_time": "2024-05-03T13:12:37.349Z"
   },
   {
    "duration": 19,
    "start_time": "2024-05-03T13:12:37.534Z"
   },
   {
    "duration": 13,
    "start_time": "2024-05-03T13:12:37.554Z"
   },
   {
    "duration": 14,
    "start_time": "2024-05-03T13:12:37.569Z"
   },
   {
    "duration": 28,
    "start_time": "2024-05-03T13:12:37.585Z"
   },
   {
    "duration": 11,
    "start_time": "2024-05-03T13:12:37.615Z"
   },
   {
    "duration": 20,
    "start_time": "2024-05-03T13:12:37.627Z"
   },
   {
    "duration": 524,
    "start_time": "2024-05-03T13:12:37.648Z"
   },
   {
    "duration": 2,
    "start_time": "2024-05-03T13:12:50.831Z"
   },
   {
    "duration": 170,
    "start_time": "2024-05-03T13:12:51.384Z"
   },
   {
    "duration": 9,
    "start_time": "2024-05-03T13:12:52.141Z"
   },
   {
    "duration": 4,
    "start_time": "2024-05-03T13:12:52.756Z"
   },
   {
    "duration": 7,
    "start_time": "2024-05-03T13:12:53.285Z"
   },
   {
    "duration": 9,
    "start_time": "2024-05-03T13:12:53.886Z"
   },
   {
    "duration": 10,
    "start_time": "2024-05-03T13:12:54.668Z"
   },
   {
    "duration": 7,
    "start_time": "2024-05-03T13:12:55.244Z"
   },
   {
    "duration": 493,
    "start_time": "2024-05-03T13:12:56.280Z"
   },
   {
    "duration": 451,
    "start_time": "2024-05-03T13:14:09.840Z"
   },
   {
    "duration": 521,
    "start_time": "2024-05-03T13:15:13.171Z"
   },
   {
    "duration": 491,
    "start_time": "2024-05-03T13:16:58.610Z"
   },
   {
    "duration": 589,
    "start_time": "2024-05-03T13:17:13.811Z"
   },
   {
    "duration": 524,
    "start_time": "2024-05-03T13:17:24.841Z"
   },
   {
    "duration": 599,
    "start_time": "2024-05-03T13:17:33.196Z"
   },
   {
    "duration": 592,
    "start_time": "2024-05-03T13:18:33.060Z"
   },
   {
    "duration": 208,
    "start_time": "2024-05-03T13:20:55.742Z"
   },
   {
    "duration": 10,
    "start_time": "2024-05-03T13:20:56.130Z"
   },
   {
    "duration": 4,
    "start_time": "2024-05-03T13:20:56.295Z"
   },
   {
    "duration": 6,
    "start_time": "2024-05-03T13:20:56.451Z"
   },
   {
    "duration": 6,
    "start_time": "2024-05-03T13:20:56.599Z"
   },
   {
    "duration": 11,
    "start_time": "2024-05-03T13:20:56.772Z"
   },
   {
    "duration": 10,
    "start_time": "2024-05-03T13:20:57.128Z"
   },
   {
    "duration": 526,
    "start_time": "2024-05-03T13:20:57.395Z"
   },
   {
    "duration": 26,
    "start_time": "2024-05-03T13:31:16.630Z"
   },
   {
    "duration": 26,
    "start_time": "2024-05-03T13:31:22.247Z"
   },
   {
    "duration": 25,
    "start_time": "2024-05-03T13:31:37.160Z"
   },
   {
    "duration": 9,
    "start_time": "2024-05-03T13:32:00.480Z"
   },
   {
    "duration": 7,
    "start_time": "2024-05-03T13:32:30.389Z"
   },
   {
    "duration": 10,
    "start_time": "2024-05-03T13:34:11.647Z"
   },
   {
    "duration": 12,
    "start_time": "2024-05-03T13:34:20.205Z"
   },
   {
    "duration": 9,
    "start_time": "2024-05-03T13:34:21.008Z"
   },
   {
    "duration": 23,
    "start_time": "2024-05-03T13:34:21.262Z"
   },
   {
    "duration": 17,
    "start_time": "2024-05-03T13:34:46.587Z"
   },
   {
    "duration": 12,
    "start_time": "2024-05-03T13:35:31.461Z"
   },
   {
    "duration": 4,
    "start_time": "2024-05-03T13:35:34.728Z"
   },
   {
    "duration": 216,
    "start_time": "2024-05-03T13:35:34.739Z"
   },
   {
    "duration": 25,
    "start_time": "2024-05-03T13:35:34.958Z"
   },
   {
    "duration": 17,
    "start_time": "2024-05-03T13:35:34.984Z"
   },
   {
    "duration": 15,
    "start_time": "2024-05-03T13:35:35.003Z"
   },
   {
    "duration": 7,
    "start_time": "2024-05-03T13:35:35.020Z"
   },
   {
    "duration": 24,
    "start_time": "2024-05-03T13:35:35.029Z"
   },
   {
    "duration": 11,
    "start_time": "2024-05-03T13:35:35.055Z"
   },
   {
    "duration": 542,
    "start_time": "2024-05-03T13:35:35.068Z"
   },
   {
    "duration": 15,
    "start_time": "2024-05-03T13:35:35.611Z"
   },
   {
    "duration": 41,
    "start_time": "2024-05-03T13:35:35.627Z"
   },
   {
    "duration": 42,
    "start_time": "2024-05-03T13:35:35.670Z"
   },
   {
    "duration": 0,
    "start_time": "2024-05-03T13:35:35.713Z"
   },
   {
    "duration": 5,
    "start_time": "2024-05-03T13:36:53.956Z"
   },
   {
    "duration": 6,
    "start_time": "2024-05-03T13:36:55.467Z"
   },
   {
    "duration": 545,
    "start_time": "2024-05-03T13:38:10.586Z"
   },
   {
    "duration": 11,
    "start_time": "2024-05-03T13:39:12.677Z"
   },
   {
    "duration": 3,
    "start_time": "2024-05-03T13:39:27.871Z"
   },
   {
    "duration": 176,
    "start_time": "2024-05-03T13:39:27.876Z"
   },
   {
    "duration": 13,
    "start_time": "2024-05-03T13:39:28.054Z"
   },
   {
    "duration": 6,
    "start_time": "2024-05-03T13:39:28.069Z"
   },
   {
    "duration": 13,
    "start_time": "2024-05-03T13:39:28.076Z"
   },
   {
    "duration": 22,
    "start_time": "2024-05-03T13:39:28.091Z"
   },
   {
    "duration": 19,
    "start_time": "2024-05-03T13:39:28.114Z"
   },
   {
    "duration": 13,
    "start_time": "2024-05-03T13:39:28.135Z"
   },
   {
    "duration": 466,
    "start_time": "2024-05-03T13:39:28.150Z"
   },
   {
    "duration": 8,
    "start_time": "2024-05-03T13:39:28.619Z"
   },
   {
    "duration": 34,
    "start_time": "2024-05-03T13:39:28.628Z"
   },
   {
    "duration": 43,
    "start_time": "2024-05-03T13:39:28.663Z"
   },
   {
    "duration": 7,
    "start_time": "2024-05-03T13:39:28.708Z"
   },
   {
    "duration": 12,
    "start_time": "2024-05-03T13:39:28.716Z"
   },
   {
    "duration": 585,
    "start_time": "2024-05-03T13:39:28.731Z"
   },
   {
    "duration": 3,
    "start_time": "2024-05-03T13:40:03.897Z"
   },
   {
    "duration": 178,
    "start_time": "2024-05-03T13:40:03.909Z"
   },
   {
    "duration": 15,
    "start_time": "2024-05-03T13:40:04.089Z"
   },
   {
    "duration": 8,
    "start_time": "2024-05-03T13:40:04.106Z"
   },
   {
    "duration": 21,
    "start_time": "2024-05-03T13:40:04.115Z"
   },
   {
    "duration": 26,
    "start_time": "2024-05-03T13:40:04.138Z"
   },
   {
    "duration": 20,
    "start_time": "2024-05-03T13:40:04.166Z"
   },
   {
    "duration": 9,
    "start_time": "2024-05-03T13:40:04.188Z"
   },
   {
    "duration": 597,
    "start_time": "2024-05-03T13:40:04.199Z"
   },
   {
    "duration": 13,
    "start_time": "2024-05-03T13:40:04.798Z"
   },
   {
    "duration": 9,
    "start_time": "2024-05-03T13:40:04.820Z"
   },
   {
    "duration": 9,
    "start_time": "2024-05-03T13:40:04.831Z"
   },
   {
    "duration": 7,
    "start_time": "2024-05-03T13:40:04.841Z"
   },
   {
    "duration": 22,
    "start_time": "2024-05-03T13:40:04.850Z"
   },
   {
    "duration": 639,
    "start_time": "2024-05-03T13:40:04.874Z"
   },
   {
    "duration": 9,
    "start_time": "2024-05-03T13:40:29.410Z"
   },
   {
    "duration": 10,
    "start_time": "2024-05-03T13:40:34.613Z"
   },
   {
    "duration": 9,
    "start_time": "2024-05-03T13:40:35.691Z"
   },
   {
    "duration": 5,
    "start_time": "2024-05-03T13:41:42.133Z"
   },
   {
    "duration": 9,
    "start_time": "2024-05-03T13:42:35.693Z"
   },
   {
    "duration": 7,
    "start_time": "2024-05-03T13:42:35.917Z"
   },
   {
    "duration": 5,
    "start_time": "2024-05-03T13:42:36.169Z"
   },
   {
    "duration": 4,
    "start_time": "2024-05-03T13:42:36.434Z"
   },
   {
    "duration": 10,
    "start_time": "2024-05-03T13:42:36.940Z"
   },
   {
    "duration": 9,
    "start_time": "2024-05-03T13:42:37.453Z"
   },
   {
    "duration": 5,
    "start_time": "2024-05-03T13:42:38.052Z"
   },
   {
    "duration": 4,
    "start_time": "2024-05-03T13:42:38.557Z"
   },
   {
    "duration": 574,
    "start_time": "2024-05-03T13:42:39.418Z"
   },
   {
    "duration": 418,
    "start_time": "2024-05-03T13:44:12.074Z"
   },
   {
    "duration": 3,
    "start_time": "2024-05-03T13:45:06.555Z"
   },
   {
    "duration": 180,
    "start_time": "2024-05-03T13:45:06.567Z"
   },
   {
    "duration": 45,
    "start_time": "2024-05-03T13:45:06.749Z"
   },
   {
    "duration": 15,
    "start_time": "2024-05-03T13:45:06.796Z"
   },
   {
    "duration": 10,
    "start_time": "2024-05-03T13:45:06.812Z"
   },
   {
    "duration": 5,
    "start_time": "2024-05-03T13:45:06.825Z"
   },
   {
    "duration": 13,
    "start_time": "2024-05-03T13:45:06.831Z"
   },
   {
    "duration": 10,
    "start_time": "2024-05-03T13:45:06.846Z"
   },
   {
    "duration": 551,
    "start_time": "2024-05-03T13:45:06.858Z"
   },
   {
    "duration": 8,
    "start_time": "2024-05-03T13:45:07.421Z"
   },
   {
    "duration": 8,
    "start_time": "2024-05-03T13:45:07.430Z"
   },
   {
    "duration": 16,
    "start_time": "2024-05-03T13:45:07.440Z"
   },
   {
    "duration": 9,
    "start_time": "2024-05-03T13:45:07.457Z"
   },
   {
    "duration": 21,
    "start_time": "2024-05-03T13:45:07.467Z"
   },
   {
    "duration": 20,
    "start_time": "2024-05-03T13:45:07.490Z"
   },
   {
    "duration": 12,
    "start_time": "2024-05-03T13:45:07.511Z"
   },
   {
    "duration": 13,
    "start_time": "2024-05-03T13:45:07.525Z"
   },
   {
    "duration": 474,
    "start_time": "2024-05-03T13:45:07.539Z"
   },
   {
    "duration": 519,
    "start_time": "2024-05-03T13:45:08.021Z"
   },
   {
    "duration": 11,
    "start_time": "2024-05-03T13:45:24.122Z"
   },
   {
    "duration": 5,
    "start_time": "2024-05-03T13:45:41.773Z"
   },
   {
    "duration": 463,
    "start_time": "2024-05-03T13:45:41.948Z"
   },
   {
    "duration": 17,
    "start_time": "2024-05-03T13:45:42.414Z"
   },
   {
    "duration": 576,
    "start_time": "2024-05-03T13:45:42.433Z"
   },
   {
    "duration": 546,
    "start_time": "2024-05-03T13:46:29.152Z"
   },
   {
    "duration": 518,
    "start_time": "2024-05-03T13:46:38.279Z"
   },
   {
    "duration": 586,
    "start_time": "2024-05-03T13:47:51.650Z"
   },
   {
    "duration": 543,
    "start_time": "2024-05-03T13:48:17.819Z"
   },
   {
    "duration": 542,
    "start_time": "2024-05-03T13:48:41.786Z"
   },
   {
    "duration": 535,
    "start_time": "2024-05-03T13:51:38.542Z"
   },
   {
    "duration": 10,
    "start_time": "2024-05-03T13:52:08.764Z"
   },
   {
    "duration": 7,
    "start_time": "2024-05-03T13:52:19.296Z"
   },
   {
    "duration": 274,
    "start_time": "2024-05-03T13:52:20.068Z"
   },
   {
    "duration": 0,
    "start_time": "2024-05-03T13:52:20.343Z"
   },
   {
    "duration": 11,
    "start_time": "2024-05-03T13:52:20.405Z"
   },
   {
    "duration": 10,
    "start_time": "2024-05-03T13:52:20.578Z"
   },
   {
    "duration": 6,
    "start_time": "2024-05-03T13:52:20.725Z"
   },
   {
    "duration": 4,
    "start_time": "2024-05-03T13:52:20.915Z"
   },
   {
    "duration": 467,
    "start_time": "2024-05-03T13:52:21.522Z"
   },
   {
    "duration": 14,
    "start_time": "2024-05-03T13:52:21.991Z"
   },
   {
    "duration": 8,
    "start_time": "2024-05-03T13:52:22.757Z"
   },
   {
    "duration": 555,
    "start_time": "2024-05-03T13:52:23.479Z"
   },
   {
    "duration": 3,
    "start_time": "2024-05-03T13:54:40.429Z"
   },
   {
    "duration": 231,
    "start_time": "2024-05-03T13:54:40.441Z"
   },
   {
    "duration": 24,
    "start_time": "2024-05-03T13:54:40.674Z"
   },
   {
    "duration": 6,
    "start_time": "2024-05-03T13:54:40.700Z"
   },
   {
    "duration": 12,
    "start_time": "2024-05-03T13:54:40.707Z"
   },
   {
    "duration": 7,
    "start_time": "2024-05-03T13:54:40.721Z"
   },
   {
    "duration": 13,
    "start_time": "2024-05-03T13:54:40.730Z"
   },
   {
    "duration": 8,
    "start_time": "2024-05-03T13:54:40.744Z"
   },
   {
    "duration": 575,
    "start_time": "2024-05-03T13:54:40.754Z"
   },
   {
    "duration": 8,
    "start_time": "2024-05-03T13:54:41.331Z"
   },
   {
    "duration": 11,
    "start_time": "2024-05-03T13:54:41.341Z"
   },
   {
    "duration": 11,
    "start_time": "2024-05-03T13:54:41.354Z"
   },
   {
    "duration": 9,
    "start_time": "2024-05-03T13:54:41.367Z"
   },
   {
    "duration": 14,
    "start_time": "2024-05-03T13:54:41.378Z"
   },
   {
    "duration": 26,
    "start_time": "2024-05-03T13:54:41.395Z"
   },
   {
    "duration": 13,
    "start_time": "2024-05-03T13:54:41.423Z"
   },
   {
    "duration": 7,
    "start_time": "2024-05-03T13:54:41.438Z"
   },
   {
    "duration": 519,
    "start_time": "2024-05-03T13:54:41.446Z"
   },
   {
    "duration": 11,
    "start_time": "2024-05-03T13:54:41.966Z"
   },
   {
    "duration": 9,
    "start_time": "2024-05-03T13:54:41.978Z"
   },
   {
    "duration": 525,
    "start_time": "2024-05-03T13:54:41.988Z"
   },
   {
    "duration": 511,
    "start_time": "2024-05-03T13:55:09.880Z"
   },
   {
    "duration": 504,
    "start_time": "2024-05-03T13:57:44.281Z"
   },
   {
    "duration": 452,
    "start_time": "2024-05-07T07:14:48.101Z"
   },
   {
    "duration": 1341,
    "start_time": "2024-05-07T07:15:02.067Z"
   },
   {
    "duration": 276,
    "start_time": "2024-05-07T07:15:03.998Z"
   },
   {
    "duration": 12,
    "start_time": "2024-05-07T07:15:05.220Z"
   },
   {
    "duration": 4,
    "start_time": "2024-05-07T07:15:05.717Z"
   },
   {
    "duration": 9,
    "start_time": "2024-05-07T07:15:07.408Z"
   },
   {
    "duration": 7,
    "start_time": "2024-05-07T07:15:08.498Z"
   },
   {
    "duration": 10,
    "start_time": "2024-05-07T07:15:09.399Z"
   },
   {
    "duration": 10,
    "start_time": "2024-05-07T07:15:11.651Z"
   },
   {
    "duration": 776,
    "start_time": "2024-05-07T07:15:12.435Z"
   },
   {
    "duration": 543,
    "start_time": "2024-05-07T07:19:06.518Z"
   },
   {
    "duration": 608,
    "start_time": "2024-05-07T07:19:22.704Z"
   },
   {
    "duration": 8,
    "start_time": "2024-05-07T07:26:48.971Z"
   },
   {
    "duration": 8,
    "start_time": "2024-05-07T07:26:54.739Z"
   },
   {
    "duration": 67,
    "start_time": "2024-05-07T07:26:55.092Z"
   },
   {
    "duration": 9,
    "start_time": "2024-05-07T07:26:55.400Z"
   },
   {
    "duration": 8,
    "start_time": "2024-05-07T07:26:57.188Z"
   },
   {
    "duration": 9,
    "start_time": "2024-05-07T07:27:01.982Z"
   },
   {
    "duration": 8,
    "start_time": "2024-05-07T07:27:02.296Z"
   },
   {
    "duration": 7,
    "start_time": "2024-05-07T07:27:02.548Z"
   },
   {
    "duration": 4,
    "start_time": "2024-05-07T07:27:02.783Z"
   },
   {
    "duration": 12,
    "start_time": "2024-05-07T07:27:03.155Z"
   },
   {
    "duration": 10,
    "start_time": "2024-05-07T07:27:03.649Z"
   },
   {
    "duration": 7,
    "start_time": "2024-05-07T07:27:04.043Z"
   },
   {
    "duration": 5,
    "start_time": "2024-05-07T07:27:05.523Z"
   },
   {
    "duration": 572,
    "start_time": "2024-05-07T07:27:05.789Z"
   },
   {
    "duration": 10,
    "start_time": "2024-05-07T07:27:07.766Z"
   },
   {
    "duration": 8,
    "start_time": "2024-05-07T07:27:08.469Z"
   },
   {
    "duration": 518,
    "start_time": "2024-05-07T07:27:09.164Z"
   },
   {
    "duration": 483,
    "start_time": "2024-05-07T07:28:14.312Z"
   },
   {
    "duration": 644,
    "start_time": "2024-05-07T07:30:09.855Z"
   },
   {
    "duration": 5,
    "start_time": "2024-05-07T07:33:33.733Z"
   },
   {
    "duration": 8,
    "start_time": "2024-05-07T07:33:34.465Z"
   },
   {
    "duration": 5,
    "start_time": "2024-05-07T07:33:34.645Z"
   },
   {
    "duration": 5,
    "start_time": "2024-05-07T07:33:34.808Z"
   },
   {
    "duration": 11,
    "start_time": "2024-05-07T07:33:34.972Z"
   },
   {
    "duration": 10,
    "start_time": "2024-05-07T07:33:35.129Z"
   },
   {
    "duration": 6,
    "start_time": "2024-05-07T07:33:35.294Z"
   },
   {
    "duration": 5,
    "start_time": "2024-05-07T07:33:35.457Z"
   },
   {
    "duration": 557,
    "start_time": "2024-05-07T07:33:35.630Z"
   },
   {
    "duration": 11,
    "start_time": "2024-05-07T07:33:36.189Z"
   },
   {
    "duration": 9,
    "start_time": "2024-05-07T07:33:36.201Z"
   },
   {
    "duration": 560,
    "start_time": "2024-05-07T07:33:36.211Z"
   },
   {
    "duration": 570,
    "start_time": "2024-05-07T07:37:04.415Z"
   },
   {
    "duration": 485,
    "start_time": "2024-05-16T07:09:29.607Z"
   },
   {
    "duration": 1332,
    "start_time": "2024-05-16T07:09:33.565Z"
   },
   {
    "duration": 277,
    "start_time": "2024-05-16T07:09:36.605Z"
   },
   {
    "duration": 15,
    "start_time": "2024-05-16T07:09:38.287Z"
   },
   {
    "duration": 5,
    "start_time": "2024-05-16T07:09:41.784Z"
   },
   {
    "duration": 10,
    "start_time": "2024-05-16T07:09:43.658Z"
   },
   {
    "duration": 6,
    "start_time": "2024-05-16T07:09:51.956Z"
   },
   {
    "duration": 10,
    "start_time": "2024-05-16T07:09:53.244Z"
   },
   {
    "duration": 11,
    "start_time": "2024-05-16T07:09:56.529Z"
   },
   {
    "duration": 266,
    "start_time": "2024-05-16T07:10:10.641Z"
   },
   {
    "duration": 10,
    "start_time": "2024-05-16T07:10:12.732Z"
   },
   {
    "duration": 5,
    "start_time": "2024-05-16T07:10:20.379Z"
   },
   {
    "duration": 8,
    "start_time": "2024-05-16T07:10:34.536Z"
   },
   {
    "duration": 6,
    "start_time": "2024-05-16T07:10:35.973Z"
   },
   {
    "duration": 11,
    "start_time": "2024-05-16T07:10:37.473Z"
   },
   {
    "duration": 7,
    "start_time": "2024-05-16T07:10:39.133Z"
   },
   {
    "duration": 677,
    "start_time": "2024-05-16T07:11:44.001Z"
   },
   {
    "duration": 611,
    "start_time": "2024-05-16T07:12:03.064Z"
   },
   {
    "duration": 676,
    "start_time": "2024-05-16T07:12:45.518Z"
   },
   {
    "duration": 599,
    "start_time": "2024-05-16T07:12:58.194Z"
   },
   {
    "duration": 395,
    "start_time": "2024-05-16T07:13:32.846Z"
   },
   {
    "duration": 486,
    "start_time": "2024-05-16T07:13:58.476Z"
   },
   {
    "duration": 497,
    "start_time": "2024-05-16T07:14:41.863Z"
   },
   {
    "duration": 5,
    "start_time": "2024-05-16T07:17:18.668Z"
   },
   {
    "duration": 9,
    "start_time": "2024-05-16T07:17:18.864Z"
   },
   {
    "duration": 4,
    "start_time": "2024-05-16T07:17:19.028Z"
   },
   {
    "duration": 5,
    "start_time": "2024-05-16T07:17:19.209Z"
   },
   {
    "duration": 5,
    "start_time": "2024-05-16T07:17:19.381Z"
   },
   {
    "duration": 15,
    "start_time": "2024-05-16T07:17:19.585Z"
   },
   {
    "duration": 10,
    "start_time": "2024-05-16T07:17:19.971Z"
   },
   {
    "duration": 436,
    "start_time": "2024-05-16T07:17:20.421Z"
   },
   {
    "duration": 440,
    "start_time": "2024-05-16T07:17:27.235Z"
   },
   {
    "duration": 552,
    "start_time": "2024-05-16T07:17:40.181Z"
   },
   {
    "duration": 10,
    "start_time": "2024-05-16T07:21:11.774Z"
   },
   {
    "duration": 10,
    "start_time": "2024-05-16T07:21:12.181Z"
   },
   {
    "duration": 4,
    "start_time": "2024-05-16T07:21:12.362Z"
   },
   {
    "duration": 7,
    "start_time": "2024-05-16T07:21:12.533Z"
   },
   {
    "duration": 3,
    "start_time": "2024-05-16T07:21:12.707Z"
   },
   {
    "duration": 10,
    "start_time": "2024-05-16T07:21:12.943Z"
   },
   {
    "duration": 7,
    "start_time": "2024-05-16T07:21:13.391Z"
   },
   {
    "duration": 528,
    "start_time": "2024-05-16T07:21:13.881Z"
   },
   {
    "duration": 585,
    "start_time": "2024-05-16T07:21:19.212Z"
   },
   {
    "duration": 499,
    "start_time": "2024-05-16T07:21:40.907Z"
   },
   {
    "duration": 330,
    "start_time": "2024-05-16T07:23:01.615Z"
   },
   {
    "duration": 11,
    "start_time": "2024-05-16T07:23:02.693Z"
   },
   {
    "duration": 6,
    "start_time": "2024-05-16T07:23:03.539Z"
   },
   {
    "duration": 10,
    "start_time": "2024-05-16T07:23:03.750Z"
   },
   {
    "duration": 5,
    "start_time": "2024-05-16T07:23:03.939Z"
   },
   {
    "duration": 10,
    "start_time": "2024-05-16T07:23:04.120Z"
   },
   {
    "duration": 6,
    "start_time": "2024-05-16T07:23:04.332Z"
   },
   {
    "duration": 458,
    "start_time": "2024-05-16T07:23:05.018Z"
   },
   {
    "duration": 498,
    "start_time": "2024-05-16T07:23:12.539Z"
   },
   {
    "duration": 7,
    "start_time": "2024-05-16T09:32:47.653Z"
   },
   {
    "duration": 11,
    "start_time": "2024-05-16T09:32:48.181Z"
   },
   {
    "duration": 3,
    "start_time": "2024-05-16T09:32:48.820Z"
   },
   {
    "duration": 6,
    "start_time": "2024-05-16T09:32:49.839Z"
   },
   {
    "duration": 4,
    "start_time": "2024-05-16T09:32:50.415Z"
   },
   {
    "duration": 10,
    "start_time": "2024-05-16T09:32:50.920Z"
   },
   {
    "duration": 7,
    "start_time": "2024-05-16T09:32:51.398Z"
   },
   {
    "duration": 528,
    "start_time": "2024-05-16T09:32:52.064Z"
   },
   {
    "duration": 4,
    "start_time": "2024-05-16T09:34:44.785Z"
   },
   {
    "duration": 9,
    "start_time": "2024-05-16T09:34:45.035Z"
   },
   {
    "duration": 3,
    "start_time": "2024-05-16T09:34:45.263Z"
   },
   {
    "duration": 5,
    "start_time": "2024-05-16T09:34:45.452Z"
   },
   {
    "duration": 4,
    "start_time": "2024-05-16T09:34:45.630Z"
   },
   {
    "duration": 15,
    "start_time": "2024-05-16T09:34:46.112Z"
   },
   {
    "duration": 9,
    "start_time": "2024-05-16T09:34:46.544Z"
   },
   {
    "duration": 598,
    "start_time": "2024-05-16T09:34:57.305Z"
   },
   {
    "duration": 4,
    "start_time": "2024-05-16T09:36:59.153Z"
   },
   {
    "duration": 10,
    "start_time": "2024-05-16T09:36:59.373Z"
   },
   {
    "duration": 4,
    "start_time": "2024-05-16T09:36:59.545Z"
   },
   {
    "duration": 6,
    "start_time": "2024-05-16T09:36:59.725Z"
   },
   {
    "duration": 3,
    "start_time": "2024-05-16T09:36:59.897Z"
   },
   {
    "duration": 10,
    "start_time": "2024-05-16T09:37:00.053Z"
   },
   {
    "duration": 7,
    "start_time": "2024-05-16T09:37:00.266Z"
   },
   {
    "duration": 485,
    "start_time": "2024-05-16T09:37:05.585Z"
   },
   {
    "duration": 82,
    "start_time": "2024-05-16T09:41:27.547Z"
   },
   {
    "duration": 7,
    "start_time": "2024-05-16T09:46:22.558Z"
   },
   {
    "duration": 10,
    "start_time": "2024-05-16T09:46:23.230Z"
   },
   {
    "duration": 4,
    "start_time": "2024-05-16T09:46:23.457Z"
   },
   {
    "duration": 7,
    "start_time": "2024-05-16T09:46:23.938Z"
   },
   {
    "duration": 4,
    "start_time": "2024-05-16T09:46:24.523Z"
   },
   {
    "duration": 13,
    "start_time": "2024-05-16T09:46:24.947Z"
   },
   {
    "duration": 9,
    "start_time": "2024-05-16T09:46:25.414Z"
   },
   {
    "duration": 101,
    "start_time": "2024-05-16T09:46:26.093Z"
   },
   {
    "duration": 81,
    "start_time": "2024-05-16T09:46:35.552Z"
   },
   {
    "duration": 5,
    "start_time": "2024-05-16T09:47:26.082Z"
   },
   {
    "duration": 10,
    "start_time": "2024-05-16T09:47:26.468Z"
   },
   {
    "duration": 3,
    "start_time": "2024-05-16T09:47:26.997Z"
   },
   {
    "duration": 5,
    "start_time": "2024-05-16T09:47:27.398Z"
   },
   {
    "duration": 4,
    "start_time": "2024-05-16T09:47:27.681Z"
   },
   {
    "duration": 14,
    "start_time": "2024-05-16T09:47:28.612Z"
   },
   {
    "duration": 9,
    "start_time": "2024-05-16T09:47:29.346Z"
   },
   {
    "duration": 86,
    "start_time": "2024-05-16T09:47:35.901Z"
   },
   {
    "duration": 4,
    "start_time": "2024-05-16T09:48:24.442Z"
   },
   {
    "duration": 12,
    "start_time": "2024-05-16T09:48:24.653Z"
   },
   {
    "duration": 3,
    "start_time": "2024-05-16T09:48:25.117Z"
   },
   {
    "duration": 7,
    "start_time": "2024-05-16T09:48:25.435Z"
   },
   {
    "duration": 4,
    "start_time": "2024-05-16T09:48:25.724Z"
   },
   {
    "duration": 10,
    "start_time": "2024-05-16T09:48:26.127Z"
   },
   {
    "duration": 7,
    "start_time": "2024-05-16T09:48:26.592Z"
   },
   {
    "duration": 181,
    "start_time": "2024-05-16T09:48:31.327Z"
   },
   {
    "duration": 5,
    "start_time": "2024-05-16T10:13:33.727Z"
   },
   {
    "duration": 11,
    "start_time": "2024-05-16T10:13:33.880Z"
   },
   {
    "duration": 3,
    "start_time": "2024-05-16T10:13:34.037Z"
   },
   {
    "duration": 5,
    "start_time": "2024-05-16T10:13:34.178Z"
   },
   {
    "duration": 4,
    "start_time": "2024-05-16T10:13:34.387Z"
   },
   {
    "duration": 9,
    "start_time": "2024-05-16T10:13:34.532Z"
   },
   {
    "duration": 8,
    "start_time": "2024-05-16T10:13:34.703Z"
   },
   {
    "duration": 76,
    "start_time": "2024-05-16T10:13:34.866Z"
   },
   {
    "duration": 502,
    "start_time": "2024-05-16T10:13:35.357Z"
   },
   {
    "duration": 4,
    "start_time": "2024-05-16T10:13:37.087Z"
   },
   {
    "duration": 7,
    "start_time": "2024-05-16T10:15:14.442Z"
   },
   {
    "duration": 6,
    "start_time": "2024-05-16T10:15:16.165Z"
   },
   {
    "duration": 5,
    "start_time": "2024-05-16T10:15:17.090Z"
   },
   {
    "duration": 10,
    "start_time": "2024-05-16T10:15:17.729Z"
   },
   {
    "duration": 10,
    "start_time": "2024-05-16T10:15:18.257Z"
   },
   {
    "duration": 5,
    "start_time": "2024-05-16T10:15:19.229Z"
   },
   {
    "duration": 4,
    "start_time": "2024-05-16T10:15:19.742Z"
   },
   {
    "duration": 563,
    "start_time": "2024-05-16T10:15:21.181Z"
   },
   {
    "duration": 11,
    "start_time": "2024-05-16T10:15:22.557Z"
   },
   {
    "duration": 10,
    "start_time": "2024-05-16T10:15:23.568Z"
   },
   {
    "duration": 512,
    "start_time": "2024-05-16T10:15:24.302Z"
   },
   {
    "duration": 516,
    "start_time": "2024-05-16T10:16:46.437Z"
   },
   {
    "duration": 555,
    "start_time": "2024-05-16T10:17:02.402Z"
   },
   {
    "duration": 5,
    "start_time": "2024-05-16T11:12:18.752Z"
   },
   {
    "duration": 18,
    "start_time": "2024-05-16T11:12:18.760Z"
   },
   {
    "duration": 29,
    "start_time": "2024-05-16T11:12:18.780Z"
   },
   {
    "duration": 7,
    "start_time": "2024-05-16T11:12:18.811Z"
   },
   {
    "duration": 9,
    "start_time": "2024-05-16T11:12:18.820Z"
   },
   {
    "duration": 8,
    "start_time": "2024-05-16T11:12:18.831Z"
   },
   {
    "duration": 13,
    "start_time": "2024-05-16T11:12:18.840Z"
   },
   {
    "duration": 9,
    "start_time": "2024-05-16T11:12:18.854Z"
   },
   {
    "duration": 95,
    "start_time": "2024-05-16T11:12:18.864Z"
   },
   {
    "duration": 496,
    "start_time": "2024-05-16T11:12:18.961Z"
   },
   {
    "duration": 6,
    "start_time": "2024-05-16T11:12:19.459Z"
   },
   {
    "duration": 22,
    "start_time": "2024-05-16T11:12:19.467Z"
   },
   {
    "duration": 22,
    "start_time": "2024-05-16T11:12:19.491Z"
   },
   {
    "duration": 25,
    "start_time": "2024-05-16T11:12:19.517Z"
   },
   {
    "duration": 15,
    "start_time": "2024-05-16T11:12:19.544Z"
   },
   {
    "duration": 32,
    "start_time": "2024-05-16T11:12:19.561Z"
   },
   {
    "duration": 27,
    "start_time": "2024-05-16T11:12:19.595Z"
   },
   {
    "duration": 15,
    "start_time": "2024-05-16T11:12:19.624Z"
   },
   {
    "duration": 573,
    "start_time": "2024-05-16T11:12:19.641Z"
   },
   {
    "duration": 11,
    "start_time": "2024-05-16T11:12:20.216Z"
   },
   {
    "duration": 25,
    "start_time": "2024-05-16T11:12:20.229Z"
   },
   {
    "duration": 606,
    "start_time": "2024-05-16T11:12:20.255Z"
   },
   {
    "duration": 740,
    "start_time": "2024-05-16T11:16:36.720Z"
   },
   {
    "duration": 406,
    "start_time": "2024-05-16T11:52:45.862Z"
   },
   {
    "duration": 8,
    "start_time": "2024-05-16T11:53:40.597Z"
   },
   {
    "duration": 11,
    "start_time": "2024-05-16T11:54:55.724Z"
   },
   {
    "duration": 10,
    "start_time": "2024-05-16T11:55:02.776Z"
   },
   {
    "duration": 14,
    "start_time": "2024-05-16T11:56:46.891Z"
   },
   {
    "duration": 423,
    "start_time": "2024-05-16T11:56:49.900Z"
   },
   {
    "duration": 5,
    "start_time": "2024-05-16T11:56:50.578Z"
   },
   {
    "duration": 7,
    "start_time": "2024-05-16T11:56:51.724Z"
   },
   {
    "duration": 13,
    "start_time": "2024-05-16T11:56:52.451Z"
   },
   {
    "duration": 11,
    "start_time": "2024-05-16T11:56:52.889Z"
   },
   {
    "duration": 5,
    "start_time": "2024-05-16T11:57:55.920Z"
   },
   {
    "duration": 9,
    "start_time": "2024-05-16T11:57:56.505Z"
   },
   {
    "duration": 780,
    "start_time": "2024-05-16T12:01:16.550Z"
   },
   {
    "duration": 11270,
    "start_time": "2024-05-16T12:03:38.136Z"
   },
   {
    "duration": 4,
    "start_time": "2024-05-16T12:04:46.635Z"
   },
   {
    "duration": 572,
    "start_time": "2024-05-16T12:04:50.225Z"
   },
   {
    "duration": 36,
    "start_time": "2024-05-16T12:04:50.799Z"
   },
   {
    "duration": 8,
    "start_time": "2024-05-16T12:04:51.525Z"
   },
   {
    "duration": 12,
    "start_time": "2024-05-16T12:04:52.070Z"
   },
   {
    "duration": 4,
    "start_time": "2024-05-16T12:04:52.761Z"
   },
   {
    "duration": 13,
    "start_time": "2024-05-16T12:04:53.421Z"
   },
   {
    "duration": 10704,
    "start_time": "2024-05-16T12:04:54.154Z"
   },
   {
    "duration": 11233,
    "start_time": "2024-05-16T12:07:42.470Z"
   },
   {
    "duration": 10896,
    "start_time": "2024-05-16T12:09:52.729Z"
   },
   {
    "duration": 11007,
    "start_time": "2024-05-16T12:10:33.990Z"
   },
   {
    "duration": 11000,
    "start_time": "2024-05-16T12:12:53.558Z"
   },
   {
    "duration": 10891,
    "start_time": "2024-05-16T12:15:15.574Z"
   },
   {
    "duration": 611,
    "start_time": "2024-05-16T12:20:12.279Z"
   },
   {
    "duration": 5,
    "start_time": "2024-05-16T12:20:13.560Z"
   },
   {
    "duration": 8,
    "start_time": "2024-05-16T12:20:14.841Z"
   },
   {
    "duration": 10,
    "start_time": "2024-05-16T12:20:15.248Z"
   },
   {
    "duration": 5,
    "start_time": "2024-05-16T12:20:15.692Z"
   },
   {
    "duration": 9,
    "start_time": "2024-05-16T12:20:16.124Z"
   },
   {
    "duration": 10648,
    "start_time": "2024-05-16T12:20:16.567Z"
   },
   {
    "duration": 10809,
    "start_time": "2024-05-16T12:20:27.217Z"
   },
   {
    "duration": 10940,
    "start_time": "2024-05-16T12:20:38.028Z"
   },
   {
    "duration": 321,
    "start_time": "2024-05-16T12:20:48.970Z"
   },
   {
    "duration": 10811,
    "start_time": "2024-05-16T12:22:26.110Z"
   },
   {
    "duration": 11625,
    "start_time": "2024-05-16T12:24:11.069Z"
   },
   {
    "duration": 11571,
    "start_time": "2024-05-16T12:25:54.569Z"
   },
   {
    "duration": 845,
    "start_time": "2024-05-16T12:33:14.566Z"
   },
   {
    "duration": 729,
    "start_time": "2024-05-16T12:33:50.795Z"
   },
   {
    "duration": 444,
    "start_time": "2024-05-16T12:34:17.881Z"
   },
   {
    "duration": 5,
    "start_time": "2024-05-16T12:34:19.229Z"
   },
   {
    "duration": 8,
    "start_time": "2024-05-16T12:34:20.905Z"
   },
   {
    "duration": 10,
    "start_time": "2024-05-16T12:34:21.378Z"
   },
   {
    "duration": 5,
    "start_time": "2024-05-16T12:34:21.986Z"
   },
   {
    "duration": 9,
    "start_time": "2024-05-16T12:34:23.137Z"
   },
   {
    "duration": 10732,
    "start_time": "2024-05-16T12:34:24.190Z"
   },
   {
    "duration": 11195,
    "start_time": "2024-05-16T12:34:34.924Z"
   },
   {
    "duration": 11312,
    "start_time": "2024-05-16T12:34:46.121Z"
   },
   {
    "duration": 11939,
    "start_time": "2024-05-16T12:34:57.435Z"
   },
   {
    "duration": 392,
    "start_time": "2024-05-16T12:36:35.746Z"
   },
   {
    "duration": 11,
    "start_time": "2024-05-16T12:36:51.319Z"
   },
   {
    "duration": 8,
    "start_time": "2024-05-16T12:36:53.089Z"
   },
   {
    "duration": 11,
    "start_time": "2024-05-16T12:37:06.251Z"
   },
   {
    "duration": 11582,
    "start_time": "2024-05-16T12:37:46.943Z"
   },
   {
    "duration": 5,
    "start_time": "2024-05-16T12:38:25.142Z"
   },
   {
    "duration": 11705,
    "start_time": "2024-05-16T12:38:31.315Z"
   },
   {
    "duration": 344,
    "start_time": "2024-05-16T12:45:46.614Z"
   },
   {
    "duration": 6,
    "start_time": "2024-05-16T12:46:27.343Z"
   },
   {
    "duration": 5,
    "start_time": "2024-05-16T12:47:12.237Z"
   },
   {
    "duration": 9,
    "start_time": "2024-05-16T12:47:37.433Z"
   },
   {
    "duration": 267,
    "start_time": "2024-05-16T12:48:02.883Z"
   },
   {
    "duration": 3,
    "start_time": "2024-05-16T12:48:03.164Z"
   },
   {
    "duration": 136,
    "start_time": "2024-05-16T12:48:07.013Z"
   },
   {
    "duration": 8,
    "start_time": "2024-05-16T12:48:08.473Z"
   },
   {
    "duration": 5,
    "start_time": "2024-05-16T12:48:08.755Z"
   },
   {
    "duration": 8,
    "start_time": "2024-05-16T12:48:09.513Z"
   },
   {
    "duration": 8,
    "start_time": "2024-05-16T12:48:29.584Z"
   },
   {
    "duration": 3,
    "start_time": "2024-05-16T12:48:39.891Z"
   },
   {
    "duration": 10,
    "start_time": "2024-05-16T12:48:39.896Z"
   },
   {
    "duration": 13,
    "start_time": "2024-05-16T12:48:39.908Z"
   },
   {
    "duration": 7,
    "start_time": "2024-05-16T12:48:39.924Z"
   },
   {
    "duration": 15,
    "start_time": "2024-05-16T12:48:39.933Z"
   },
   {
    "duration": 7,
    "start_time": "2024-05-16T12:48:39.950Z"
   },
   {
    "duration": 30,
    "start_time": "2024-05-16T12:48:39.959Z"
   },
   {
    "duration": 8,
    "start_time": "2024-05-16T12:48:39.991Z"
   },
   {
    "duration": 93,
    "start_time": "2024-05-16T12:48:40.001Z"
   },
   {
    "duration": 533,
    "start_time": "2024-05-16T12:48:40.097Z"
   },
   {
    "duration": 4,
    "start_time": "2024-05-16T12:48:40.632Z"
   },
   {
    "duration": 9,
    "start_time": "2024-05-16T12:48:40.638Z"
   },
   {
    "duration": 35,
    "start_time": "2024-05-16T12:48:40.649Z"
   },
   {
    "duration": 8,
    "start_time": "2024-05-16T12:48:40.686Z"
   },
   {
    "duration": 15,
    "start_time": "2024-05-16T12:48:40.696Z"
   },
   {
    "duration": 16,
    "start_time": "2024-05-16T12:48:40.713Z"
   },
   {
    "duration": 11,
    "start_time": "2024-05-16T12:48:40.730Z"
   },
   {
    "duration": 24,
    "start_time": "2024-05-16T12:48:40.743Z"
   },
   {
    "duration": 609,
    "start_time": "2024-05-16T12:48:40.768Z"
   },
   {
    "duration": 11,
    "start_time": "2024-05-16T12:48:41.383Z"
   },
   {
    "duration": 8,
    "start_time": "2024-05-16T12:48:41.396Z"
   },
   {
    "duration": 742,
    "start_time": "2024-05-16T12:48:41.406Z"
   },
   {
    "duration": 759,
    "start_time": "2024-05-16T12:48:42.150Z"
   },
   {
    "duration": 558,
    "start_time": "2024-05-16T12:48:42.912Z"
   },
   {
    "duration": 20,
    "start_time": "2024-05-16T12:48:43.472Z"
   },
   {
    "duration": 13,
    "start_time": "2024-05-16T12:48:43.494Z"
   },
   {
    "duration": 15,
    "start_time": "2024-05-16T12:48:43.508Z"
   },
   {
    "duration": 5,
    "start_time": "2024-05-16T12:48:43.527Z"
   },
   {
    "duration": 11,
    "start_time": "2024-05-16T12:48:43.534Z"
   },
   {
    "duration": 10986,
    "start_time": "2024-05-16T12:48:43.547Z"
   },
   {
    "duration": 11167,
    "start_time": "2024-05-16T12:48:54.535Z"
   },
   {
    "duration": 11465,
    "start_time": "2024-05-16T12:49:05.704Z"
   },
   {
    "duration": 11683,
    "start_time": "2024-05-16T12:49:17.171Z"
   },
   {
    "duration": 134,
    "start_time": "2024-05-16T12:49:28.856Z"
   },
   {
    "duration": 6,
    "start_time": "2024-05-16T12:49:28.991Z"
   },
   {
    "duration": 13,
    "start_time": "2024-05-16T12:49:28.998Z"
   },
   {
    "duration": 17,
    "start_time": "2024-05-16T12:49:29.013Z"
   },
   {
    "duration": 10815,
    "start_time": "2024-05-16T12:50:48.653Z"
   },
   {
    "duration": 343,
    "start_time": "2024-05-16T12:52:57.222Z"
   },
   {
    "duration": 6,
    "start_time": "2024-05-16T12:52:58.044Z"
   },
   {
    "duration": 5,
    "start_time": "2024-05-16T12:52:58.591Z"
   },
   {
    "duration": 10972,
    "start_time": "2024-05-16T12:53:19.169Z"
   },
   {
    "duration": 58,
    "start_time": "2024-05-17T08:03:55.731Z"
   },
   {
    "duration": 1165,
    "start_time": "2024-05-17T08:03:58.282Z"
   },
   {
    "duration": 10,
    "start_time": "2024-05-17T08:04:00.190Z"
   },
   {
    "duration": 7,
    "start_time": "2024-05-17T08:04:10.048Z"
   },
   {
    "duration": 10,
    "start_time": "2024-05-17T08:04:10.592Z"
   },
   {
    "duration": 4,
    "start_time": "2024-05-17T08:04:21.197Z"
   },
   {
    "duration": 7,
    "start_time": "2024-05-17T08:04:22.130Z"
   },
   {
    "duration": 4,
    "start_time": "2024-05-17T08:04:23.830Z"
   },
   {
    "duration": 11,
    "start_time": "2024-05-17T08:04:24.700Z"
   },
   {
    "duration": 10,
    "start_time": "2024-05-17T08:04:27.101Z"
   },
   {
    "duration": 96,
    "start_time": "2024-05-17T08:04:28.067Z"
   },
   {
    "duration": 668,
    "start_time": "2024-05-17T08:04:50.948Z"
   },
   {
    "duration": 554,
    "start_time": "2024-05-17T08:05:16.877Z"
   },
   {
    "duration": 5,
    "start_time": "2024-05-17T08:10:29.974Z"
   },
   {
    "duration": 13,
    "start_time": "2024-05-17T08:10:31.126Z"
   },
   {
    "duration": 3,
    "start_time": "2024-05-17T08:10:31.726Z"
   },
   {
    "duration": 5,
    "start_time": "2024-05-17T08:10:32.476Z"
   },
   {
    "duration": 4,
    "start_time": "2024-05-17T08:10:32.909Z"
   },
   {
    "duration": 11,
    "start_time": "2024-05-17T08:10:33.413Z"
   },
   {
    "duration": 9,
    "start_time": "2024-05-17T08:10:33.959Z"
   },
   {
    "duration": 80,
    "start_time": "2024-05-17T08:10:34.732Z"
   },
   {
    "duration": 420,
    "start_time": "2024-05-17T08:10:36.212Z"
   },
   {
    "duration": 527,
    "start_time": "2024-05-17T08:20:40.736Z"
   },
   {
    "duration": 570,
    "start_time": "2024-05-17T08:21:07.034Z"
   },
   {
    "duration": 524,
    "start_time": "2024-05-17T08:21:18.651Z"
   },
   {
    "duration": 654,
    "start_time": "2024-05-17T08:21:53.349Z"
   },
   {
    "duration": 706,
    "start_time": "2024-05-17T08:21:59.077Z"
   },
   {
    "duration": 525,
    "start_time": "2024-05-17T08:22:36.269Z"
   },
   {
    "duration": 524,
    "start_time": "2024-05-17T08:22:50.838Z"
   },
   {
    "duration": 8,
    "start_time": "2024-05-17T08:24:42.461Z"
   },
   {
    "duration": 11,
    "start_time": "2024-05-17T08:24:43.471Z"
   },
   {
    "duration": 4,
    "start_time": "2024-05-17T08:24:44.766Z"
   },
   {
    "duration": 6,
    "start_time": "2024-05-17T08:24:45.002Z"
   },
   {
    "duration": 4,
    "start_time": "2024-05-17T08:24:45.617Z"
   },
   {
    "duration": 11,
    "start_time": "2024-05-17T08:24:46.209Z"
   },
   {
    "duration": 8,
    "start_time": "2024-05-17T08:24:47.250Z"
   },
   {
    "duration": 94,
    "start_time": "2024-05-17T08:24:55.231Z"
   },
   {
    "duration": 580,
    "start_time": "2024-05-17T08:25:02.201Z"
   },
   {
    "duration": 686,
    "start_time": "2024-05-17T08:26:01.257Z"
   },
   {
    "duration": 7,
    "start_time": "2024-05-17T08:28:49.626Z"
   },
   {
    "duration": 13,
    "start_time": "2024-05-17T08:28:50.099Z"
   },
   {
    "duration": 3,
    "start_time": "2024-05-17T08:28:50.405Z"
   },
   {
    "duration": 6,
    "start_time": "2024-05-17T08:28:50.728Z"
   },
   {
    "duration": 3,
    "start_time": "2024-05-17T08:28:51.066Z"
   },
   {
    "duration": 11,
    "start_time": "2024-05-17T08:28:51.539Z"
   },
   {
    "duration": 7,
    "start_time": "2024-05-17T08:28:51.893Z"
   },
   {
    "duration": 87,
    "start_time": "2024-05-17T08:28:52.429Z"
   },
   {
    "duration": 640,
    "start_time": "2024-05-17T08:28:53.433Z"
   },
   {
    "duration": 4,
    "start_time": "2024-05-17T08:30:37.291Z"
   },
   {
    "duration": 10,
    "start_time": "2024-05-17T08:30:38.310Z"
   },
   {
    "duration": 3,
    "start_time": "2024-05-17T08:30:39.361Z"
   },
   {
    "duration": 5,
    "start_time": "2024-05-17T08:30:40.292Z"
   },
   {
    "duration": 4,
    "start_time": "2024-05-17T08:30:40.718Z"
   },
   {
    "duration": 12,
    "start_time": "2024-05-17T08:30:41.247Z"
   },
   {
    "duration": 8,
    "start_time": "2024-05-17T08:30:41.988Z"
   },
   {
    "duration": 82,
    "start_time": "2024-05-17T08:30:47.236Z"
   },
   {
    "duration": 558,
    "start_time": "2024-05-17T08:30:48.685Z"
   },
   {
    "duration": 402,
    "start_time": "2024-05-17T08:35:33.566Z"
   },
   {
    "duration": 11,
    "start_time": "2024-05-17T08:35:34.946Z"
   },
   {
    "duration": 7,
    "start_time": "2024-05-17T08:35:37.468Z"
   },
   {
    "duration": 13,
    "start_time": "2024-05-17T08:35:37.893Z"
   },
   {
    "duration": 6,
    "start_time": "2024-05-17T08:35:38.376Z"
   },
   {
    "duration": 10,
    "start_time": "2024-05-17T08:35:39.165Z"
   },
   {
    "duration": 7,
    "start_time": "2024-05-17T08:35:39.691Z"
   },
   {
    "duration": 91,
    "start_time": "2024-05-17T08:35:46.378Z"
   },
   {
    "duration": 625,
    "start_time": "2024-05-17T08:35:54.702Z"
   },
   {
    "duration": 740,
    "start_time": "2024-05-17T08:36:06.768Z"
   },
   {
    "duration": 22027,
    "start_time": "2024-05-17T08:47:09.929Z"
   },
   {
    "duration": 19905,
    "start_time": "2024-05-17T08:53:07.604Z"
   },
   {
    "duration": 570,
    "start_time": "2024-05-20T10:02:30.406Z"
   },
   {
    "duration": 1326,
    "start_time": "2024-05-20T10:02:34.513Z"
   },
   {
    "duration": 372,
    "start_time": "2024-05-20T10:02:36.421Z"
   },
   {
    "duration": 13,
    "start_time": "2024-05-20T10:02:37.539Z"
   },
   {
    "duration": 5,
    "start_time": "2024-05-20T10:02:38.851Z"
   },
   {
    "duration": 14,
    "start_time": "2024-05-20T10:02:39.444Z"
   },
   {
    "duration": 6,
    "start_time": "2024-05-20T10:02:40.874Z"
   },
   {
    "duration": 10,
    "start_time": "2024-05-20T10:02:41.449Z"
   },
   {
    "duration": 10,
    "start_time": "2024-05-20T10:02:42.586Z"
   },
   {
    "duration": 96,
    "start_time": "2024-05-20T10:02:43.339Z"
   },
   {
    "duration": 22290,
    "start_time": "2024-05-20T10:02:45.228Z"
   },
   {
    "duration": 411,
    "start_time": "2024-05-20T11:03:49.756Z"
   },
   {
    "duration": 11,
    "start_time": "2024-05-20T11:03:50.899Z"
   },
   {
    "duration": 4,
    "start_time": "2024-05-20T11:03:51.238Z"
   },
   {
    "duration": 6,
    "start_time": "2024-05-20T11:03:51.750Z"
   },
   {
    "duration": 4,
    "start_time": "2024-05-20T11:03:52.896Z"
   },
   {
    "duration": 10,
    "start_time": "2024-05-20T11:03:53.513Z"
   },
   {
    "duration": 7,
    "start_time": "2024-05-20T11:03:54.236Z"
   },
   {
    "duration": 97,
    "start_time": "2024-05-20T11:03:54.997Z"
   },
   {
    "duration": 1283,
    "start_time": "2024-05-20T11:03:56.611Z"
   },
   {
    "duration": 1247,
    "start_time": "2024-05-20T11:05:03.155Z"
   },
   {
    "duration": 5,
    "start_time": "2024-05-20T11:13:54.687Z"
   },
   {
    "duration": 10,
    "start_time": "2024-05-20T11:13:55.113Z"
   },
   {
    "duration": 3,
    "start_time": "2024-05-20T11:13:55.675Z"
   },
   {
    "duration": 5,
    "start_time": "2024-05-20T11:13:56.011Z"
   },
   {
    "duration": 4,
    "start_time": "2024-05-20T11:13:56.414Z"
   },
   {
    "duration": 13,
    "start_time": "2024-05-20T11:13:57.146Z"
   },
   {
    "duration": 13,
    "start_time": "2024-05-20T11:13:57.767Z"
   },
   {
    "duration": 85,
    "start_time": "2024-05-20T11:13:58.735Z"
   },
   {
    "duration": 81,
    "start_time": "2024-05-20T11:14:15.077Z"
   },
   {
    "duration": 701,
    "start_time": "2024-05-20T11:14:50.676Z"
   },
   {
    "duration": 116,
    "start_time": "2024-05-20T11:20:37.086Z"
   },
   {
    "duration": 10,
    "start_time": "2024-05-20T11:20:37.842Z"
   },
   {
    "duration": 3,
    "start_time": "2024-05-20T11:20:38.640Z"
   },
   {
    "duration": 14,
    "start_time": "2024-05-20T11:20:38.974Z"
   },
   {
    "duration": 3,
    "start_time": "2024-05-20T11:20:39.785Z"
   },
   {
    "duration": 10,
    "start_time": "2024-05-20T11:20:40.312Z"
   },
   {
    "duration": 6,
    "start_time": "2024-05-20T11:20:41.103Z"
   },
   {
    "duration": 101,
    "start_time": "2024-05-20T11:20:45.943Z"
   },
   {
    "duration": 5,
    "start_time": "2024-05-20T11:30:46.160Z"
   },
   {
    "duration": 10,
    "start_time": "2024-05-20T11:30:46.743Z"
   },
   {
    "duration": 4,
    "start_time": "2024-05-20T11:30:47.255Z"
   },
   {
    "duration": 6,
    "start_time": "2024-05-20T11:30:47.737Z"
   },
   {
    "duration": 3,
    "start_time": "2024-05-20T11:30:48.150Z"
   },
   {
    "duration": 10,
    "start_time": "2024-05-20T11:30:48.762Z"
   },
   {
    "duration": 7,
    "start_time": "2024-05-20T11:30:49.337Z"
   },
   {
    "duration": 85,
    "start_time": "2024-05-20T11:30:49.963Z"
   },
   {
    "duration": 83,
    "start_time": "2024-05-20T11:31:00.440Z"
   },
   {
    "duration": 669,
    "start_time": "2024-05-20T11:31:02.194Z"
   },
   {
    "duration": 628,
    "start_time": "2024-05-23T09:37:45.294Z"
   },
   {
    "duration": 1352,
    "start_time": "2024-05-23T09:37:47.149Z"
   },
   {
    "duration": 399,
    "start_time": "2024-05-23T09:37:49.339Z"
   },
   {
    "duration": 12,
    "start_time": "2024-05-23T09:37:50.695Z"
   },
   {
    "duration": 6,
    "start_time": "2024-05-23T09:37:52.297Z"
   },
   {
    "duration": 13,
    "start_time": "2024-05-23T09:37:52.948Z"
   },
   {
    "duration": 6,
    "start_time": "2024-05-23T09:37:53.814Z"
   },
   {
    "duration": 10,
    "start_time": "2024-05-23T09:37:54.641Z"
   },
   {
    "duration": 10,
    "start_time": "2024-05-23T09:37:55.427Z"
   },
   {
    "duration": 96,
    "start_time": "2024-05-23T09:38:04.544Z"
   },
   {
    "duration": 24001,
    "start_time": "2024-05-23T09:38:42.056Z"
   },
   {
    "duration": 25949,
    "start_time": "2024-05-23T09:39:17.382Z"
   },
   {
    "duration": 287,
    "start_time": "2024-05-23T09:42:46.971Z"
   },
   {
    "duration": 10,
    "start_time": "2024-05-23T09:42:47.969Z"
   },
   {
    "duration": 7,
    "start_time": "2024-05-23T09:42:48.504Z"
   },
   {
    "duration": 9,
    "start_time": "2024-05-23T09:42:49.276Z"
   },
   {
    "duration": 6,
    "start_time": "2024-05-23T09:42:49.653Z"
   },
   {
    "duration": 11,
    "start_time": "2024-05-23T09:42:50.167Z"
   },
   {
    "duration": 9,
    "start_time": "2024-05-23T09:42:50.708Z"
   },
   {
    "duration": 87,
    "start_time": "2024-05-23T09:42:51.528Z"
   },
   {
    "duration": 26383,
    "start_time": "2024-05-23T09:42:52.773Z"
   },
   {
    "duration": 8,
    "start_time": "2024-05-23T09:49:23.386Z"
   },
   {
    "duration": 10,
    "start_time": "2024-05-23T09:49:24.180Z"
   },
   {
    "duration": 4,
    "start_time": "2024-05-23T09:49:24.621Z"
   },
   {
    "duration": 6,
    "start_time": "2024-05-23T09:49:24.930Z"
   },
   {
    "duration": 3,
    "start_time": "2024-05-23T09:49:25.432Z"
   },
   {
    "duration": 11,
    "start_time": "2024-05-23T09:49:26.055Z"
   },
   {
    "duration": 8,
    "start_time": "2024-05-23T09:49:26.974Z"
   },
   {
    "duration": 86,
    "start_time": "2024-05-23T09:49:37.431Z"
   },
   {
    "duration": 1280,
    "start_time": "2024-05-23T09:49:47.873Z"
   },
   {
    "duration": 6,
    "start_time": "2024-05-23T09:55:45.324Z"
   },
   {
    "duration": 10,
    "start_time": "2024-05-23T09:55:45.983Z"
   },
   {
    "duration": 3,
    "start_time": "2024-05-23T09:55:46.544Z"
   },
   {
    "duration": 6,
    "start_time": "2024-05-23T09:55:46.746Z"
   },
   {
    "duration": 3,
    "start_time": "2024-05-23T09:55:47.106Z"
   },
   {
    "duration": 11,
    "start_time": "2024-05-23T09:55:47.574Z"
   },
   {
    "duration": 8,
    "start_time": "2024-05-23T09:55:48.766Z"
   },
   {
    "duration": 83,
    "start_time": "2024-05-23T09:55:55.147Z"
   },
   {
    "duration": 685,
    "start_time": "2024-05-23T09:56:23.718Z"
   },
   {
    "duration": 6,
    "start_time": "2024-05-23T09:58:52.558Z"
   },
   {
    "duration": 10,
    "start_time": "2024-05-23T09:58:53.007Z"
   },
   {
    "duration": 4,
    "start_time": "2024-05-23T09:58:53.228Z"
   },
   {
    "duration": 5,
    "start_time": "2024-05-23T09:58:53.590Z"
   },
   {
    "duration": 4,
    "start_time": "2024-05-23T09:58:53.888Z"
   },
   {
    "duration": 10,
    "start_time": "2024-05-23T09:58:54.322Z"
   },
   {
    "duration": 7,
    "start_time": "2024-05-23T09:58:54.747Z"
   },
   {
    "duration": 86,
    "start_time": "2024-05-23T09:58:55.791Z"
   },
   {
    "duration": 731,
    "start_time": "2024-05-23T09:58:56.787Z"
   },
   {
    "duration": 5,
    "start_time": "2024-05-23T10:04:44.225Z"
   },
   {
    "duration": 56,
    "start_time": "2024-05-24T12:54:50.073Z"
   },
   {
    "duration": 1456,
    "start_time": "2024-05-24T12:54:52.654Z"
   },
   {
    "duration": 7,
    "start_time": "2024-05-24T12:54:55.409Z"
   },
   {
    "duration": 13,
    "start_time": "2024-05-24T12:54:56.768Z"
   },
   {
    "duration": 3,
    "start_time": "2024-05-24T12:54:58.995Z"
   },
   {
    "duration": 7,
    "start_time": "2024-05-24T12:54:59.887Z"
   },
   {
    "duration": 4,
    "start_time": "2024-05-24T12:55:04.733Z"
   },
   {
    "duration": 939,
    "start_time": "2024-05-24T12:59:01.838Z"
   },
   {
    "duration": 3,
    "start_time": "2024-05-24T13:00:03.788Z"
   },
   {
    "duration": 6,
    "start_time": "2024-05-24T13:00:04.301Z"
   },
   {
    "duration": 10,
    "start_time": "2024-05-24T13:00:04.955Z"
   },
   {
    "duration": 4,
    "start_time": "2024-05-24T13:00:05.516Z"
   },
   {
    "duration": 5,
    "start_time": "2024-05-24T13:00:05.917Z"
   },
   {
    "duration": 4,
    "start_time": "2024-05-24T13:00:06.319Z"
   },
   {
    "duration": 11,
    "start_time": "2024-05-24T13:00:06.840Z"
   },
   {
    "duration": 12,
    "start_time": "2024-05-24T13:00:07.512Z"
   },
   {
    "duration": 950,
    "start_time": "2024-05-24T13:00:08.279Z"
   },
   {
    "duration": 5,
    "start_time": "2024-05-24T13:00:16.879Z"
   },
   {
    "duration": 11,
    "start_time": "2024-05-24T13:00:17.264Z"
   },
   {
    "duration": 3,
    "start_time": "2024-05-24T13:00:17.602Z"
   },
   {
    "duration": 5,
    "start_time": "2024-05-24T13:00:17.877Z"
   },
   {
    "duration": 4,
    "start_time": "2024-05-24T13:00:18.128Z"
   },
   {
    "duration": 10,
    "start_time": "2024-05-24T13:00:18.397Z"
   },
   {
    "duration": 8,
    "start_time": "2024-05-24T13:00:18.727Z"
   },
   {
    "duration": 372,
    "start_time": "2024-05-24T13:00:19.248Z"
   },
   {
    "duration": 831,
    "start_time": "2024-05-24T13:03:17.184Z"
   },
   {
    "duration": 221,
    "start_time": "2024-05-24T13:04:34.333Z"
   },
   {
    "duration": 82,
    "start_time": "2024-05-24T13:04:59.522Z"
   },
   {
    "duration": 763,
    "start_time": "2024-05-24T13:05:03.383Z"
   },
   {
    "duration": 4,
    "start_time": "2024-05-24T13:07:49.071Z"
   },
   {
    "duration": 10,
    "start_time": "2024-05-24T13:07:49.561Z"
   },
   {
    "duration": 4,
    "start_time": "2024-05-24T13:07:49.803Z"
   },
   {
    "duration": 8,
    "start_time": "2024-05-24T13:07:50.072Z"
   },
   {
    "duration": 4,
    "start_time": "2024-05-24T13:07:50.451Z"
   },
   {
    "duration": 11,
    "start_time": "2024-05-24T13:07:50.948Z"
   },
   {
    "duration": 7,
    "start_time": "2024-05-24T13:07:51.399Z"
   },
   {
    "duration": 88,
    "start_time": "2024-05-24T13:07:52.100Z"
   },
   {
    "duration": 506,
    "start_time": "2024-05-24T13:07:53.679Z"
   },
   {
    "duration": 612,
    "start_time": "2024-05-24T13:08:39.034Z"
   },
   {
    "duration": 971,
    "start_time": "2024-05-24T13:09:36.939Z"
   },
   {
    "duration": 502,
    "start_time": "2024-05-24T13:11:21.271Z"
   },
   {
    "duration": 55,
    "start_time": "2024-05-24T13:12:03.549Z"
   },
   {
    "duration": 466,
    "start_time": "2024-05-24T13:12:33.620Z"
   },
   {
    "duration": 520,
    "start_time": "2024-05-24T13:14:01.753Z"
   },
   {
    "duration": 538,
    "start_time": "2024-05-24T13:18:04.435Z"
   },
   {
    "duration": 382,
    "start_time": "2024-05-24T13:18:17.731Z"
   },
   {
    "duration": 365,
    "start_time": "2024-05-24T13:18:25.803Z"
   },
   {
    "duration": 428,
    "start_time": "2024-05-24T13:19:37.421Z"
   },
   {
    "duration": 478,
    "start_time": "2024-05-24T13:19:56.827Z"
   },
   {
    "duration": 442,
    "start_time": "2024-05-24T13:20:15.158Z"
   },
   {
    "duration": 481,
    "start_time": "2024-05-24T13:21:02.514Z"
   },
   {
    "duration": 6,
    "start_time": "2024-05-24T13:22:06.516Z"
   },
   {
    "duration": 11,
    "start_time": "2024-05-24T13:22:07.019Z"
   },
   {
    "duration": 3,
    "start_time": "2024-05-24T13:22:08.024Z"
   },
   {
    "duration": 6,
    "start_time": "2024-05-24T13:22:08.862Z"
   },
   {
    "duration": 4,
    "start_time": "2024-05-24T13:22:10.879Z"
   },
   {
    "duration": 15,
    "start_time": "2024-05-24T13:22:12.058Z"
   },
   {
    "duration": 8,
    "start_time": "2024-05-24T13:22:13.690Z"
   },
   {
    "duration": 99,
    "start_time": "2024-05-24T13:22:21.082Z"
   },
   {
    "duration": 692,
    "start_time": "2024-05-24T13:22:24.199Z"
   },
   {
    "duration": 397,
    "start_time": "2024-05-24T13:22:27.794Z"
   },
   {
    "duration": 426,
    "start_time": "2024-05-24T13:22:40.679Z"
   },
   {
    "duration": 15,
    "start_time": "2024-05-24T13:23:02.680Z"
   },
   {
    "duration": 440,
    "start_time": "2024-05-24T13:23:12.843Z"
   },
   {
    "duration": 541,
    "start_time": "2024-05-24T13:24:52.278Z"
   },
   {
    "duration": 482,
    "start_time": "2024-05-24T13:27:08.846Z"
   },
   {
    "duration": 5,
    "start_time": "2024-05-24T13:27:18.405Z"
   },
   {
    "duration": 11,
    "start_time": "2024-05-24T13:27:18.625Z"
   },
   {
    "duration": 4,
    "start_time": "2024-05-24T13:27:18.805Z"
   },
   {
    "duration": 8,
    "start_time": "2024-05-24T13:27:18.985Z"
   },
   {
    "duration": 5,
    "start_time": "2024-05-24T13:27:19.159Z"
   },
   {
    "duration": 11,
    "start_time": "2024-05-24T13:27:19.331Z"
   },
   {
    "duration": 9,
    "start_time": "2024-05-24T13:27:19.790Z"
   },
   {
    "duration": 83,
    "start_time": "2024-05-24T13:27:20.365Z"
   },
   {
    "duration": 691,
    "start_time": "2024-05-24T13:27:21.203Z"
   },
   {
    "duration": 660,
    "start_time": "2024-05-24T13:27:21.896Z"
   },
   {
    "duration": 5,
    "start_time": "2024-05-24T13:27:23.273Z"
   },
   {
    "duration": 6,
    "start_time": "2024-05-24T13:28:31.639Z"
   },
   {
    "duration": 12,
    "start_time": "2024-05-24T13:28:32.296Z"
   },
   {
    "duration": 3,
    "start_time": "2024-05-24T13:28:32.633Z"
   },
   {
    "duration": 5,
    "start_time": "2024-05-24T13:28:34.390Z"
   },
   {
    "duration": 4,
    "start_time": "2024-05-24T13:28:35.179Z"
   },
   {
    "duration": 10,
    "start_time": "2024-05-24T13:28:35.804Z"
   },
   {
    "duration": 9,
    "start_time": "2024-05-24T13:28:36.295Z"
   },
   {
    "duration": 82,
    "start_time": "2024-05-24T13:28:37.098Z"
   },
   {
    "duration": 699,
    "start_time": "2024-05-24T13:28:38.197Z"
   },
   {
    "duration": 426,
    "start_time": "2024-05-24T13:28:40.294Z"
   },
   {
    "duration": 272,
    "start_time": "2024-05-24T13:29:50.140Z"
   },
   {
    "duration": 490,
    "start_time": "2024-05-24T13:30:06.126Z"
   },
   {
    "duration": 589,
    "start_time": "2024-05-24T13:30:45.587Z"
   },
   {
    "duration": 615,
    "start_time": "2024-05-24T13:31:56.886Z"
   },
   {
    "duration": 656,
    "start_time": "2024-05-24T13:33:21.542Z"
   },
   {
    "duration": 645,
    "start_time": "2024-05-24T13:34:16.173Z"
   },
   {
    "duration": 734,
    "start_time": "2024-05-24T13:34:29.369Z"
   },
   {
    "duration": 594,
    "start_time": "2024-05-24T13:34:38.351Z"
   },
   {
    "duration": 641,
    "start_time": "2024-05-24T13:34:46.461Z"
   },
   {
    "duration": 636,
    "start_time": "2024-05-24T13:34:53.179Z"
   },
   {
    "duration": 558,
    "start_time": "2024-05-24T13:34:57.905Z"
   },
   {
    "duration": 499,
    "start_time": "2024-05-24T13:36:20.112Z"
   },
   {
    "duration": 528,
    "start_time": "2024-05-24T13:38:04.461Z"
   },
   {
    "duration": 4,
    "start_time": "2024-05-24T13:39:39.108Z"
   },
   {
    "duration": 10,
    "start_time": "2024-05-24T13:39:39.519Z"
   },
   {
    "duration": 3,
    "start_time": "2024-05-24T13:39:39.823Z"
   },
   {
    "duration": 5,
    "start_time": "2024-05-24T13:39:40.060Z"
   },
   {
    "duration": 4,
    "start_time": "2024-05-24T13:39:40.312Z"
   },
   {
    "duration": 11,
    "start_time": "2024-05-24T13:39:40.786Z"
   },
   {
    "duration": 10,
    "start_time": "2024-05-24T13:39:41.188Z"
   },
   {
    "duration": 80,
    "start_time": "2024-05-24T13:39:41.653Z"
   },
   {
    "duration": 553,
    "start_time": "2024-05-24T13:39:42.458Z"
   },
   {
    "duration": 487,
    "start_time": "2024-05-24T13:39:43.368Z"
   },
   {
    "duration": 505,
    "start_time": "2024-05-24T13:39:55.426Z"
   },
   {
    "duration": 664,
    "start_time": "2024-05-24T13:41:00.924Z"
   },
   {
    "duration": 443,
    "start_time": "2024-05-24T13:41:02.253Z"
   },
   {
    "duration": 501,
    "start_time": "2024-05-24T13:41:23.642Z"
   },
   {
    "duration": 3,
    "start_time": "2024-05-24T13:42:28.675Z"
   },
   {
    "duration": 5,
    "start_time": "2024-05-24T13:42:28.864Z"
   },
   {
    "duration": 11,
    "start_time": "2024-05-24T13:42:29.035Z"
   },
   {
    "duration": 4,
    "start_time": "2024-05-24T13:42:29.207Z"
   },
   {
    "duration": 8,
    "start_time": "2024-05-24T13:42:29.381Z"
   },
   {
    "duration": 5,
    "start_time": "2024-05-24T13:42:29.560Z"
   },
   {
    "duration": 15,
    "start_time": "2024-05-24T13:42:29.742Z"
   },
   {
    "duration": 9,
    "start_time": "2024-05-24T13:42:30.143Z"
   },
   {
    "duration": 97,
    "start_time": "2024-05-24T13:42:30.363Z"
   },
   {
    "duration": 518,
    "start_time": "2024-05-24T13:42:30.989Z"
   },
   {
    "duration": 444,
    "start_time": "2024-05-24T13:42:32.172Z"
   },
   {
    "duration": 524,
    "start_time": "2024-05-24T13:44:42.670Z"
   },
   {
    "duration": 451,
    "start_time": "2024-05-24T13:44:52.580Z"
   },
   {
    "duration": 504,
    "start_time": "2024-05-24T13:45:00.295Z"
   },
   {
    "duration": 6,
    "start_time": "2024-05-24T13:46:26.743Z"
   },
   {
    "duration": 11,
    "start_time": "2024-05-24T13:46:27.113Z"
   },
   {
    "duration": 4,
    "start_time": "2024-05-24T13:46:27.546Z"
   },
   {
    "duration": 8,
    "start_time": "2024-05-24T13:46:27.947Z"
   },
   {
    "duration": 4,
    "start_time": "2024-05-24T13:46:28.310Z"
   },
   {
    "duration": 11,
    "start_time": "2024-05-24T13:46:28.721Z"
   },
   {
    "duration": 8,
    "start_time": "2024-05-24T13:46:29.058Z"
   },
   {
    "duration": 86,
    "start_time": "2024-05-24T13:46:29.581Z"
   },
   {
    "duration": 733,
    "start_time": "2024-05-24T13:46:30.245Z"
   },
   {
    "duration": 686,
    "start_time": "2024-05-24T13:46:31.224Z"
   },
   {
    "duration": 622,
    "start_time": "2024-05-24T13:46:44.214Z"
   },
   {
    "duration": 630,
    "start_time": "2024-05-24T13:46:52.967Z"
   },
   {
    "duration": 4,
    "start_time": "2024-05-24T13:48:04.770Z"
   },
   {
    "duration": 9,
    "start_time": "2024-05-24T13:48:04.932Z"
   },
   {
    "duration": 4,
    "start_time": "2024-05-24T13:48:05.105Z"
   },
   {
    "duration": 6,
    "start_time": "2024-05-24T13:48:05.259Z"
   },
   {
    "duration": 4,
    "start_time": "2024-05-24T13:48:05.448Z"
   },
   {
    "duration": 11,
    "start_time": "2024-05-24T13:48:05.937Z"
   },
   {
    "duration": 8,
    "start_time": "2024-05-24T13:48:06.434Z"
   },
   {
    "duration": 82,
    "start_time": "2024-05-24T13:48:07.659Z"
   },
   {
    "duration": 488,
    "start_time": "2024-05-24T13:48:09.823Z"
   },
   {
    "duration": 339,
    "start_time": "2024-05-24T13:48:12.134Z"
   },
   {
    "duration": 4,
    "start_time": "2024-05-24T14:00:21.388Z"
   },
   {
    "duration": 10,
    "start_time": "2024-05-24T14:00:21.592Z"
   },
   {
    "duration": 3,
    "start_time": "2024-05-24T14:00:21.773Z"
   },
   {
    "duration": 5,
    "start_time": "2024-05-24T14:00:21.954Z"
   },
   {
    "duration": 4,
    "start_time": "2024-05-24T14:00:22.140Z"
   },
   {
    "duration": 12,
    "start_time": "2024-05-24T14:00:22.353Z"
   },
   {
    "duration": 8,
    "start_time": "2024-05-24T14:00:22.696Z"
   },
   {
    "duration": 88,
    "start_time": "2024-05-24T14:00:22.998Z"
   },
   {
    "duration": 584,
    "start_time": "2024-05-24T14:00:23.470Z"
   },
   {
    "duration": 380,
    "start_time": "2024-05-24T14:00:24.183Z"
   },
   {
    "duration": 6,
    "start_time": "2024-05-24T14:01:52.426Z"
   },
   {
    "duration": 10,
    "start_time": "2024-05-24T14:01:52.597Z"
   },
   {
    "duration": 4,
    "start_time": "2024-05-24T14:01:52.761Z"
   },
   {
    "duration": 6,
    "start_time": "2024-05-24T14:01:52.925Z"
   },
   {
    "duration": 4,
    "start_time": "2024-05-24T14:01:53.089Z"
   },
   {
    "duration": 10,
    "start_time": "2024-05-24T14:01:53.246Z"
   },
   {
    "duration": 11,
    "start_time": "2024-05-24T14:01:53.410Z"
   },
   {
    "duration": 171,
    "start_time": "2024-05-24T14:01:53.576Z"
   },
   {
    "duration": 757,
    "start_time": "2024-05-24T14:01:53.749Z"
   },
   {
    "duration": 584,
    "start_time": "2024-05-24T14:01:54.507Z"
   },
   {
    "duration": 9,
    "start_time": "2024-05-24T14:02:40.805Z"
   },
   {
    "duration": 573,
    "start_time": "2024-05-24T14:04:14.196Z"
   },
   {
    "duration": 559,
    "start_time": "2024-05-24T14:08:54.299Z"
   },
   {
    "duration": 545,
    "start_time": "2024-05-24T14:09:08.823Z"
   },
   {
    "duration": 596,
    "start_time": "2024-05-24T14:09:18.991Z"
   },
   {
    "duration": 50,
    "start_time": "2024-05-29T12:42:54.825Z"
   },
   {
    "duration": 1218,
    "start_time": "2024-05-29T12:42:57.220Z"
   },
   {
    "duration": 4,
    "start_time": "2024-05-29T12:42:58.961Z"
   },
   {
    "duration": 11,
    "start_time": "2024-05-29T12:42:59.550Z"
   },
   {
    "duration": 3,
    "start_time": "2024-05-29T12:43:00.594Z"
   },
   {
    "duration": 6,
    "start_time": "2024-05-29T12:43:01.223Z"
   },
   {
    "duration": 3,
    "start_time": "2024-05-29T12:43:01.689Z"
   },
   {
    "duration": 9,
    "start_time": "2024-05-29T12:43:02.820Z"
   },
   {
    "duration": 9,
    "start_time": "2024-05-29T12:43:03.382Z"
   },
   {
    "duration": 81,
    "start_time": "2024-05-29T12:43:04.061Z"
   },
   {
    "duration": 702,
    "start_time": "2024-05-29T12:43:09.148Z"
   },
   {
    "duration": 534,
    "start_time": "2024-05-29T12:43:12.356Z"
   },
   {
    "duration": 2,
    "start_time": "2024-05-29T12:55:25.490Z"
   },
   {
    "duration": 195,
    "start_time": "2024-05-29T12:55:26.208Z"
   },
   {
    "duration": 8,
    "start_time": "2024-05-29T12:55:26.868Z"
   },
   {
    "duration": 4,
    "start_time": "2024-05-29T12:55:27.244Z"
   },
   {
    "duration": 6,
    "start_time": "2024-05-29T12:55:27.544Z"
   },
   {
    "duration": 5,
    "start_time": "2024-05-29T12:55:27.754Z"
   },
   {
    "duration": 9,
    "start_time": "2024-05-29T12:55:27.918Z"
   },
   {
    "duration": 6,
    "start_time": "2024-05-29T12:55:28.074Z"
   },
   {
    "duration": 73,
    "start_time": "2024-05-29T12:55:28.231Z"
   },
   {
    "duration": 13458,
    "start_time": "2024-05-29T12:55:28.379Z"
   },
   {
    "duration": 13523,
    "start_time": "2024-05-29T12:55:41.839Z"
   },
   {
    "duration": 7,
    "start_time": "2024-05-29T12:55:57.310Z"
   },
   {
    "duration": 79,
    "start_time": "2024-05-29T12:57:11.080Z"
   },
   {
    "duration": 72,
    "start_time": "2024-05-29T12:57:16.568Z"
   },
   {
    "duration": 13627,
    "start_time": "2024-05-29T12:59:03.240Z"
   },
   {
    "duration": 3,
    "start_time": "2024-05-29T13:09:07.440Z"
   },
   {
    "duration": 5,
    "start_time": "2024-05-29T13:09:08.876Z"
   },
   {
    "duration": 9,
    "start_time": "2024-05-29T13:09:09.196Z"
   },
   {
    "duration": 3,
    "start_time": "2024-05-29T13:09:09.771Z"
   },
   {
    "duration": 5,
    "start_time": "2024-05-29T13:09:10.167Z"
   },
   {
    "duration": 4,
    "start_time": "2024-05-29T13:09:10.534Z"
   },
   {
    "duration": 10,
    "start_time": "2024-05-29T13:09:11.129Z"
   },
   {
    "duration": 7,
    "start_time": "2024-05-29T13:09:11.605Z"
   },
   {
    "duration": 73,
    "start_time": "2024-05-29T13:09:21.938Z"
   },
   {
    "duration": 759,
    "start_time": "2024-05-29T13:10:25.380Z"
   },
   {
    "duration": 4,
    "start_time": "2024-05-29T13:17:43.420Z"
   },
   {
    "duration": 8,
    "start_time": "2024-05-29T13:17:44.148Z"
   },
   {
    "duration": 3,
    "start_time": "2024-05-29T13:17:44.927Z"
   },
   {
    "duration": 5,
    "start_time": "2024-05-29T13:17:45.624Z"
   },
   {
    "duration": 3,
    "start_time": "2024-05-29T13:17:47.923Z"
   },
   {
    "duration": 10,
    "start_time": "2024-05-29T13:17:48.902Z"
   },
   {
    "duration": 6,
    "start_time": "2024-05-29T13:17:50.814Z"
   },
   {
    "duration": 71,
    "start_time": "2024-05-29T13:17:58.822Z"
   },
   {
    "duration": 650,
    "start_time": "2024-05-29T13:18:18.409Z"
   },
   {
    "duration": 653,
    "start_time": "2024-05-29T13:19:20.708Z"
   },
   {
    "duration": 614,
    "start_time": "2024-05-29T13:27:27.850Z"
   },
   {
    "duration": 555,
    "start_time": "2024-05-29T13:27:28.995Z"
   },
   {
    "duration": 407,
    "start_time": "2024-05-29T13:27:45.149Z"
   },
   {
    "duration": 1331,
    "start_time": "2024-06-06T12:11:11.377Z"
   },
   {
    "duration": 310,
    "start_time": "2024-06-06T12:11:15.294Z"
   },
   {
    "duration": 37,
    "start_time": "2024-06-06T12:11:15.607Z"
   },
   {
    "duration": 5,
    "start_time": "2024-06-06T12:11:16.615Z"
   },
   {
    "duration": 12,
    "start_time": "2024-06-06T12:11:17.587Z"
   },
   {
    "duration": 5,
    "start_time": "2024-06-06T12:11:18.052Z"
   },
   {
    "duration": 11,
    "start_time": "2024-06-06T12:11:18.629Z"
   },
   {
    "duration": 10,
    "start_time": "2024-06-06T12:11:19.130Z"
   },
   {
    "duration": 82,
    "start_time": "2024-06-06T12:11:20.350Z"
   },
   {
    "duration": 19121,
    "start_time": "2024-06-06T12:11:23.570Z"
   },
   {
    "duration": 18653,
    "start_time": "2024-06-06T12:13:15.590Z"
   },
   {
    "duration": 199,
    "start_time": "2024-06-06T12:15:54.571Z"
   },
   {
    "duration": 11,
    "start_time": "2024-06-06T12:15:54.908Z"
   },
   {
    "duration": 6,
    "start_time": "2024-06-06T12:15:55.190Z"
   },
   {
    "duration": 9,
    "start_time": "2024-06-06T12:15:55.513Z"
   },
   {
    "duration": 5,
    "start_time": "2024-06-06T12:15:57.658Z"
   },
   {
    "duration": 10,
    "start_time": "2024-06-06T12:15:58.424Z"
   },
   {
    "duration": 7,
    "start_time": "2024-06-06T12:15:59.142Z"
   },
   {
    "duration": 77,
    "start_time": "2024-06-06T12:15:59.743Z"
   },
   {
    "duration": 79,
    "start_time": "2024-06-06T12:16:06.639Z"
   },
   {
    "duration": 3,
    "start_time": "2024-06-06T12:18:03.381Z"
   },
   {
    "duration": 195,
    "start_time": "2024-06-06T12:18:04.039Z"
   },
   {
    "duration": 10,
    "start_time": "2024-06-06T12:18:04.541Z"
   },
   {
    "duration": 6,
    "start_time": "2024-06-06T12:18:05.204Z"
   },
   {
    "duration": 8,
    "start_time": "2024-06-06T12:18:05.692Z"
   },
   {
    "duration": 5,
    "start_time": "2024-06-06T12:18:06.063Z"
   },
   {
    "duration": 10,
    "start_time": "2024-06-06T12:18:06.504Z"
   },
   {
    "duration": 6,
    "start_time": "2024-06-06T12:18:07.018Z"
   },
   {
    "duration": 97,
    "start_time": "2024-06-06T12:18:07.648Z"
   },
   {
    "duration": 18140,
    "start_time": "2024-06-06T12:18:08.848Z"
   },
   {
    "duration": 18218,
    "start_time": "2024-06-06T12:18:42.200Z"
   },
   {
    "duration": 18432,
    "start_time": "2024-06-06T12:19:28.267Z"
   },
   {
    "duration": 3,
    "start_time": "2024-06-06T14:25:01.711Z"
   },
   {
    "duration": 8,
    "start_time": "2024-06-06T14:25:01.899Z"
   },
   {
    "duration": 11,
    "start_time": "2024-06-06T14:25:02.334Z"
   },
   {
    "duration": 4,
    "start_time": "2024-06-06T14:25:02.536Z"
   },
   {
    "duration": 6,
    "start_time": "2024-06-06T14:25:03.007Z"
   },
   {
    "duration": 3,
    "start_time": "2024-06-06T14:25:03.290Z"
   },
   {
    "duration": 10,
    "start_time": "2024-06-06T14:25:03.709Z"
   },
   {
    "duration": 8,
    "start_time": "2024-06-06T14:25:04.191Z"
   },
   {
    "duration": 83,
    "start_time": "2024-06-06T14:25:04.773Z"
   },
   {
    "duration": 1191,
    "start_time": "2024-06-06T14:25:58.020Z"
   },
   {
    "duration": 7,
    "start_time": "2024-06-06T14:28:37.483Z"
   },
   {
    "duration": 11,
    "start_time": "2024-06-06T14:28:37.988Z"
   },
   {
    "duration": 3,
    "start_time": "2024-06-06T14:28:38.277Z"
   },
   {
    "duration": 5,
    "start_time": "2024-06-06T14:28:38.712Z"
   },
   {
    "duration": 4,
    "start_time": "2024-06-06T14:28:38.964Z"
   },
   {
    "duration": 10,
    "start_time": "2024-06-06T14:28:39.222Z"
   },
   {
    "duration": 7,
    "start_time": "2024-06-06T14:28:39.578Z"
   },
   {
    "duration": 81,
    "start_time": "2024-06-06T14:28:40.130Z"
   },
   {
    "duration": 77,
    "start_time": "2024-06-06T14:29:03.985Z"
   },
   {
    "duration": 857,
    "start_time": "2024-06-06T14:29:39.459Z"
   },
   {
    "duration": 6,
    "start_time": "2024-06-06T14:32:53.147Z"
   },
   {
    "duration": 9,
    "start_time": "2024-06-06T14:32:54.125Z"
   },
   {
    "duration": 3,
    "start_time": "2024-06-06T14:32:54.331Z"
   },
   {
    "duration": 6,
    "start_time": "2024-06-06T14:32:54.875Z"
   },
   {
    "duration": 3,
    "start_time": "2024-06-06T14:32:55.101Z"
   },
   {
    "duration": 11,
    "start_time": "2024-06-06T14:32:55.344Z"
   },
   {
    "duration": 8,
    "start_time": "2024-06-06T14:32:55.706Z"
   },
   {
    "duration": 79,
    "start_time": "2024-06-06T14:32:56.552Z"
   },
   {
    "duration": 1077,
    "start_time": "2024-06-06T14:32:57.192Z"
   },
   {
    "duration": 1127,
    "start_time": "2024-06-06T14:33:42.137Z"
   },
   {
    "duration": 6,
    "start_time": "2024-06-06T14:38:27.749Z"
   },
   {
    "duration": 10,
    "start_time": "2024-06-06T14:38:27.929Z"
   },
   {
    "duration": 4,
    "start_time": "2024-06-06T14:38:28.085Z"
   },
   {
    "duration": 6,
    "start_time": "2024-06-06T14:38:28.574Z"
   },
   {
    "duration": 3,
    "start_time": "2024-06-06T14:38:28.944Z"
   },
   {
    "duration": 10,
    "start_time": "2024-06-06T14:38:29.707Z"
   },
   {
    "duration": 8,
    "start_time": "2024-06-06T14:38:29.955Z"
   },
   {
    "duration": 72,
    "start_time": "2024-06-06T14:38:31.022Z"
   },
   {
    "duration": 1103,
    "start_time": "2024-06-06T14:38:42.832Z"
   },
   {
    "duration": 1077,
    "start_time": "2024-06-06T14:39:38.091Z"
   },
   {
    "duration": 7,
    "start_time": "2024-06-06T14:41:37.022Z"
   },
   {
    "duration": 10,
    "start_time": "2024-06-06T14:41:37.382Z"
   },
   {
    "duration": 7,
    "start_time": "2024-06-06T14:41:37.815Z"
   },
   {
    "duration": 6,
    "start_time": "2024-06-06T14:41:38.218Z"
   },
   {
    "duration": 3,
    "start_time": "2024-06-06T14:41:38.606Z"
   },
   {
    "duration": 12,
    "start_time": "2024-06-06T14:41:39.221Z"
   },
   {
    "duration": 10,
    "start_time": "2024-06-06T14:41:39.705Z"
   },
   {
    "duration": 87,
    "start_time": "2024-06-06T14:41:42.820Z"
   },
   {
    "duration": 775,
    "start_time": "2024-06-06T14:42:08.565Z"
   },
   {
    "duration": 4,
    "start_time": "2024-06-06T14:46:04.643Z"
   },
   {
    "duration": 10,
    "start_time": "2024-06-06T14:46:05.567Z"
   },
   {
    "duration": 4,
    "start_time": "2024-06-06T14:46:05.896Z"
   },
   {
    "duration": 5,
    "start_time": "2024-06-06T14:46:06.133Z"
   },
   {
    "duration": 3,
    "start_time": "2024-06-06T14:46:06.812Z"
   },
   {
    "duration": 11,
    "start_time": "2024-06-06T14:46:07.349Z"
   },
   {
    "duration": 7,
    "start_time": "2024-06-06T14:46:07.615Z"
   },
   {
    "duration": 75,
    "start_time": "2024-06-06T14:46:08.714Z"
   },
   {
    "duration": 667,
    "start_time": "2024-06-06T14:46:32.264Z"
   },
   {
    "duration": 5,
    "start_time": "2024-06-06T14:47:36.360Z"
   },
   {
    "duration": 9,
    "start_time": "2024-06-06T14:47:36.666Z"
   },
   {
    "duration": 3,
    "start_time": "2024-06-06T14:47:37.092Z"
   },
   {
    "duration": 5,
    "start_time": "2024-06-06T14:47:37.303Z"
   },
   {
    "duration": 4,
    "start_time": "2024-06-06T14:47:37.506Z"
   },
   {
    "duration": 11,
    "start_time": "2024-06-06T14:47:38.027Z"
   },
   {
    "duration": 8,
    "start_time": "2024-06-06T14:47:39.254Z"
   },
   {
    "duration": 80,
    "start_time": "2024-06-06T14:47:39.435Z"
   },
   {
    "duration": 78,
    "start_time": "2024-06-06T14:47:47.270Z"
   },
   {
    "duration": 701,
    "start_time": "2024-06-06T14:48:06.411Z"
   },
   {
    "duration": 562,
    "start_time": "2024-06-06T14:48:07.114Z"
   },
   {
    "duration": 642,
    "start_time": "2024-06-06T14:48:51.752Z"
   },
   {
    "duration": 540,
    "start_time": "2024-06-06T14:48:52.655Z"
   },
   {
    "duration": 975,
    "start_time": "2024-06-06T14:49:04.793Z"
   },
   {
    "duration": 1272,
    "start_time": "2024-06-07T11:52:38.662Z"
   },
   {
    "duration": 252,
    "start_time": "2024-06-07T11:52:41.122Z"
   },
   {
    "duration": 14,
    "start_time": "2024-06-07T11:52:41.981Z"
   },
   {
    "duration": 6,
    "start_time": "2024-06-07T11:52:42.565Z"
   },
   {
    "duration": 10,
    "start_time": "2024-06-07T11:52:42.793Z"
   },
   {
    "duration": 8,
    "start_time": "2024-06-07T11:52:43.005Z"
   },
   {
    "duration": 17,
    "start_time": "2024-06-07T11:52:43.201Z"
   },
   {
    "duration": 10,
    "start_time": "2024-06-07T11:52:43.420Z"
   },
   {
    "duration": 86,
    "start_time": "2024-06-07T11:52:43.760Z"
   },
   {
    "duration": 18010,
    "start_time": "2024-06-07T11:52:44.857Z"
   },
   {
    "duration": 18221,
    "start_time": "2024-06-07T11:53:04.370Z"
   },
   {
    "duration": 19940,
    "start_time": "2024-06-07T11:53:41.710Z"
   },
   {
    "duration": 4,
    "start_time": "2024-06-07T11:57:07.528Z"
   },
   {
    "duration": 206,
    "start_time": "2024-06-07T11:57:07.779Z"
   },
   {
    "duration": 10,
    "start_time": "2024-06-07T11:57:08.142Z"
   },
   {
    "duration": 6,
    "start_time": "2024-06-07T11:57:08.718Z"
   },
   {
    "duration": 11,
    "start_time": "2024-06-07T11:57:08.954Z"
   },
   {
    "duration": 7,
    "start_time": "2024-06-07T11:57:09.157Z"
   },
   {
    "duration": 10,
    "start_time": "2024-06-07T11:57:09.693Z"
   },
   {
    "duration": 7,
    "start_time": "2024-06-07T11:57:10.103Z"
   },
   {
    "duration": 84,
    "start_time": "2024-06-07T11:57:10.815Z"
   },
   {
    "duration": 139,
    "start_time": "2024-06-07T11:57:26.842Z"
   },
   {
    "duration": 17748,
    "start_time": "2024-06-07T11:57:52.355Z"
   },
   {
    "duration": 1380,
    "start_time": "2024-06-16T17:34:06.432Z"
   },
   {
    "duration": 251,
    "start_time": "2024-06-16T17:34:08.509Z"
   },
   {
    "duration": 12,
    "start_time": "2024-06-16T17:34:09.984Z"
   },
   {
    "duration": 5,
    "start_time": "2024-06-16T17:34:10.779Z"
   },
   {
    "duration": 9,
    "start_time": "2024-06-16T17:34:11.162Z"
   },
   {
    "duration": 5,
    "start_time": "2024-06-16T17:34:13.232Z"
   },
   {
    "duration": 9,
    "start_time": "2024-06-16T17:34:15.185Z"
   },
   {
    "duration": 11,
    "start_time": "2024-06-16T17:34:15.642Z"
   },
   {
    "duration": 100,
    "start_time": "2024-06-16T17:34:16.481Z"
   },
   {
    "duration": 17746,
    "start_time": "2024-06-16T17:35:21.536Z"
   },
   {
    "duration": 18092,
    "start_time": "2024-06-16T17:36:26.939Z"
   },
   {
    "duration": 18176,
    "start_time": "2024-06-16T17:37:22.499Z"
   },
   {
    "duration": 280,
    "start_time": "2024-06-16T17:41:38.642Z"
   },
   {
    "duration": 246,
    "start_time": "2024-06-16T17:41:42.594Z"
   },
   {
    "duration": 289,
    "start_time": "2024-06-16T17:42:01.625Z"
   },
   {
    "duration": 3,
    "start_time": "2024-06-16T17:42:25.480Z"
   },
   {
    "duration": 598,
    "start_time": "2024-06-16T17:42:26.234Z"
   },
   {
    "duration": 259,
    "start_time": "2024-06-16T17:44:04.359Z"
   },
   {
    "duration": 15,
    "start_time": "2024-06-16T17:44:05.391Z"
   },
   {
    "duration": 6,
    "start_time": "2024-06-16T17:44:05.707Z"
   },
   {
    "duration": 12,
    "start_time": "2024-06-16T17:44:05.940Z"
   },
   {
    "duration": 5,
    "start_time": "2024-06-16T17:44:06.129Z"
   },
   {
    "duration": 10,
    "start_time": "2024-06-16T17:44:06.316Z"
   },
   {
    "duration": 13,
    "start_time": "2024-06-16T17:44:06.548Z"
   },
   {
    "duration": 86,
    "start_time": "2024-06-16T17:44:06.982Z"
   },
   {
    "duration": 19260,
    "start_time": "2024-06-16T17:44:41.841Z"
   },
   {
    "duration": 223,
    "start_time": "2024-06-16T17:47:56.495Z"
   },
   {
    "duration": 54,
    "start_time": "2024-06-16T17:47:56.720Z"
   },
   {
    "duration": 5,
    "start_time": "2024-06-16T17:47:56.883Z"
   },
   {
    "duration": 9,
    "start_time": "2024-06-16T17:47:57.220Z"
   },
   {
    "duration": 5,
    "start_time": "2024-06-16T17:47:57.493Z"
   },
   {
    "duration": 10,
    "start_time": "2024-06-16T17:47:57.857Z"
   },
   {
    "duration": 6,
    "start_time": "2024-06-16T17:47:58.234Z"
   },
   {
    "duration": 81,
    "start_time": "2024-06-16T17:47:58.752Z"
   },
   {
    "duration": 18859,
    "start_time": "2024-06-16T17:48:51.167Z"
   },
   {
    "duration": 190,
    "start_time": "2024-06-16T17:56:52.880Z"
   },
   {
    "duration": 26,
    "start_time": "2024-06-16T17:56:53.083Z"
   },
   {
    "duration": 5,
    "start_time": "2024-06-16T17:56:53.292Z"
   },
   {
    "duration": 9,
    "start_time": "2024-06-16T17:56:53.734Z"
   },
   {
    "duration": 5,
    "start_time": "2024-06-16T17:56:53.947Z"
   },
   {
    "duration": 11,
    "start_time": "2024-06-16T17:56:54.348Z"
   },
   {
    "duration": 6,
    "start_time": "2024-06-16T17:56:54.752Z"
   },
   {
    "duration": 84,
    "start_time": "2024-06-16T17:56:55.266Z"
   },
   {
    "duration": 18213,
    "start_time": "2024-06-16T17:56:56.408Z"
   },
   {
    "duration": 3,
    "start_time": "2024-06-16T18:11:01.378Z"
   },
   {
    "duration": 70,
    "start_time": "2024-06-16T18:11:02.078Z"
   },
   {
    "duration": 11,
    "start_time": "2024-06-16T18:11:02.613Z"
   },
   {
    "duration": 4,
    "start_time": "2024-06-16T18:11:03.085Z"
   },
   {
    "duration": 7,
    "start_time": "2024-06-16T18:11:03.425Z"
   },
   {
    "duration": 4,
    "start_time": "2024-06-16T18:11:03.825Z"
   },
   {
    "duration": 11,
    "start_time": "2024-06-16T18:11:04.273Z"
   },
   {
    "duration": 9,
    "start_time": "2024-06-16T18:11:04.638Z"
   },
   {
    "duration": 84,
    "start_time": "2024-06-16T18:11:05.524Z"
   },
   {
    "duration": 5820,
    "start_time": "2024-06-16T18:11:45.158Z"
   },
   {
    "duration": 212,
    "start_time": "2024-06-16T18:13:41.255Z"
   },
   {
    "duration": 10,
    "start_time": "2024-06-16T18:13:42.148Z"
   },
   {
    "duration": 5,
    "start_time": "2024-06-16T18:13:42.425Z"
   },
   {
    "duration": 9,
    "start_time": "2024-06-16T18:13:42.820Z"
   },
   {
    "duration": 4,
    "start_time": "2024-06-16T18:13:43.102Z"
   },
   {
    "duration": 11,
    "start_time": "2024-06-16T18:13:43.350Z"
   },
   {
    "duration": 7,
    "start_time": "2024-06-16T18:13:43.728Z"
   },
   {
    "duration": 100,
    "start_time": "2024-06-16T18:13:44.346Z"
   },
   {
    "duration": 5708,
    "start_time": "2024-06-16T18:13:44.581Z"
   },
   {
    "duration": 1340,
    "start_time": "2024-06-17T09:15:46.280Z"
   },
   {
    "duration": 280,
    "start_time": "2024-06-17T09:15:47.623Z"
   },
   {
    "duration": 13,
    "start_time": "2024-06-17T09:15:49.232Z"
   },
   {
    "duration": 6,
    "start_time": "2024-06-17T09:15:49.515Z"
   },
   {
    "duration": 11,
    "start_time": "2024-06-17T09:15:49.806Z"
   },
   {
    "duration": 5,
    "start_time": "2024-06-17T09:15:50.144Z"
   },
   {
    "duration": 10,
    "start_time": "2024-06-17T09:15:50.570Z"
   },
   {
    "duration": 10,
    "start_time": "2024-06-17T09:15:50.791Z"
   },
   {
    "duration": 85,
    "start_time": "2024-06-17T09:15:51.081Z"
   },
   {
    "duration": 18758,
    "start_time": "2024-06-17T09:16:03.757Z"
   },
   {
    "duration": 210,
    "start_time": "2024-06-17T09:17:11.940Z"
   },
   {
    "duration": 11,
    "start_time": "2024-06-17T09:17:12.194Z"
   },
   {
    "duration": 6,
    "start_time": "2024-06-17T09:17:12.469Z"
   },
   {
    "duration": 13,
    "start_time": "2024-06-17T09:17:12.944Z"
   },
   {
    "duration": 5,
    "start_time": "2024-06-17T09:17:13.273Z"
   },
   {
    "duration": 11,
    "start_time": "2024-06-17T09:17:13.587Z"
   },
   {
    "duration": 9,
    "start_time": "2024-06-17T09:17:14.078Z"
   },
   {
    "duration": 80,
    "start_time": "2024-06-17T09:17:14.620Z"
   },
   {
    "duration": 18987,
    "start_time": "2024-06-17T09:17:53.892Z"
   },
   {
    "duration": 493,
    "start_time": "2024-06-17T09:22:38.992Z"
   },
   {
    "duration": 10,
    "start_time": "2024-06-17T09:22:39.881Z"
   },
   {
    "duration": 6,
    "start_time": "2024-06-17T09:22:40.068Z"
   },
   {
    "duration": 8,
    "start_time": "2024-06-17T09:22:40.241Z"
   },
   {
    "duration": 6,
    "start_time": "2024-06-17T09:22:40.404Z"
   },
   {
    "duration": 10,
    "start_time": "2024-06-17T09:22:40.711Z"
   },
   {
    "duration": 7,
    "start_time": "2024-06-17T09:22:41.011Z"
   },
   {
    "duration": 80,
    "start_time": "2024-06-17T09:22:43.660Z"
   },
   {
    "duration": 18873,
    "start_time": "2024-06-17T09:23:18.370Z"
   },
   {
    "duration": 86,
    "start_time": "2024-06-17T09:25:59.851Z"
   },
   {
    "duration": 10,
    "start_time": "2024-06-17T09:26:00.028Z"
   },
   {
    "duration": 4,
    "start_time": "2024-06-17T09:26:00.212Z"
   },
   {
    "duration": 7,
    "start_time": "2024-06-17T09:26:00.462Z"
   },
   {
    "duration": 4,
    "start_time": "2024-06-17T09:26:00.729Z"
   },
   {
    "duration": 11,
    "start_time": "2024-06-17T09:26:01.416Z"
   },
   {
    "duration": 8,
    "start_time": "2024-06-17T09:26:01.849Z"
   },
   {
    "duration": 87,
    "start_time": "2024-06-17T09:26:02.498Z"
   },
   {
    "duration": 7533,
    "start_time": "2024-06-17T09:26:32.683Z"
   },
   {
    "duration": 77,
    "start_time": "2024-06-17T09:27:45.564Z"
   },
   {
    "duration": 10,
    "start_time": "2024-06-17T09:27:45.735Z"
   },
   {
    "duration": 5,
    "start_time": "2024-06-17T09:27:45.900Z"
   },
   {
    "duration": 7,
    "start_time": "2024-06-17T09:27:46.056Z"
   },
   {
    "duration": 4,
    "start_time": "2024-06-17T09:27:46.363Z"
   },
   {
    "duration": 11,
    "start_time": "2024-06-17T09:27:46.780Z"
   },
   {
    "duration": 8,
    "start_time": "2024-06-17T09:27:47.142Z"
   },
   {
    "duration": 88,
    "start_time": "2024-06-17T09:27:48.320Z"
   },
   {
    "duration": 7475,
    "start_time": "2024-06-17T09:28:08.276Z"
   },
   {
    "duration": 75,
    "start_time": "2024-06-17T09:30:14.568Z"
   },
   {
    "duration": 10,
    "start_time": "2024-06-17T09:30:14.749Z"
   },
   {
    "duration": 4,
    "start_time": "2024-06-17T09:30:14.898Z"
   },
   {
    "duration": 7,
    "start_time": "2024-06-17T09:30:15.069Z"
   },
   {
    "duration": 4,
    "start_time": "2024-06-17T09:30:15.463Z"
   },
   {
    "duration": 11,
    "start_time": "2024-06-17T09:30:15.643Z"
   },
   {
    "duration": 8,
    "start_time": "2024-06-17T09:30:16.076Z"
   },
   {
    "duration": 76,
    "start_time": "2024-06-17T09:30:16.636Z"
   },
   {
    "duration": 7405,
    "start_time": "2024-06-17T09:30:38.402Z"
   },
   {
    "duration": 1260,
    "start_time": "2024-06-18T06:44:48.066Z"
   },
   {
    "duration": 479,
    "start_time": "2024-06-18T06:44:49.906Z"
   },
   {
    "duration": 392,
    "start_time": "2024-06-18T06:45:08.085Z"
   },
   {
    "duration": 11,
    "start_time": "2024-06-18T06:45:09.323Z"
   },
   {
    "duration": 15,
    "start_time": "2024-06-18T06:45:13.042Z"
   },
   {
    "duration": 10,
    "start_time": "2024-06-18T06:45:15.211Z"
   },
   {
    "duration": 8,
    "start_time": "2024-06-18T06:46:09.994Z"
   },
   {
    "duration": 9,
    "start_time": "2024-06-18T06:46:11.845Z"
   },
   {
    "duration": 11,
    "start_time": "2024-06-18T06:46:14.888Z"
   },
   {
    "duration": 86,
    "start_time": "2024-06-18T06:46:16.891Z"
   },
   {
    "duration": 547,
    "start_time": "2024-06-18T06:50:39.996Z"
   },
   {
    "duration": 403,
    "start_time": "2024-06-18T06:51:14.035Z"
   },
   {
    "duration": 18795,
    "start_time": "2024-06-18T06:51:30.900Z"
   },
   {
    "duration": 327,
    "start_time": "2024-06-18T07:01:50.542Z"
   },
   {
    "duration": 14,
    "start_time": "2024-06-18T07:01:51.314Z"
   },
   {
    "duration": 5,
    "start_time": "2024-06-18T07:01:51.517Z"
   },
   {
    "duration": 9,
    "start_time": "2024-06-18T07:01:51.699Z"
   },
   {
    "duration": 8,
    "start_time": "2024-06-18T07:01:51.838Z"
   },
   {
    "duration": 11,
    "start_time": "2024-06-18T07:01:51.993Z"
   },
   {
    "duration": 7,
    "start_time": "2024-06-18T07:01:52.135Z"
   },
   {
    "duration": 84,
    "start_time": "2024-06-18T07:01:52.302Z"
   },
   {
    "duration": 19257,
    "start_time": "2024-06-18T07:01:53.056Z"
   },
   {
    "duration": 18350,
    "start_time": "2024-06-18T07:03:24.211Z"
   },
   {
    "duration": 17213,
    "start_time": "2024-06-18T07:04:24.665Z"
   },
   {
    "duration": 17460,
    "start_time": "2024-06-18T07:08:00.892Z"
   },
   {
    "duration": 52,
    "start_time": "2024-06-18T09:26:49.283Z"
   },
   {
    "duration": 5,
    "start_time": "2024-06-18T09:26:49.557Z"
   },
   {
    "duration": 1273,
    "start_time": "2024-06-18T09:26:51.404Z"
   },
   {
    "duration": 8,
    "start_time": "2024-06-18T09:26:54.188Z"
   },
   {
    "duration": 11,
    "start_time": "2024-06-18T09:26:54.952Z"
   },
   {
    "duration": 3,
    "start_time": "2024-06-18T09:26:55.498Z"
   },
   {
    "duration": 7,
    "start_time": "2024-06-18T09:26:56.141Z"
   },
   {
    "duration": 5,
    "start_time": "2024-06-18T09:26:57.294Z"
   },
   {
    "duration": 10,
    "start_time": "2024-06-18T09:26:57.961Z"
   },
   {
    "duration": 11,
    "start_time": "2024-06-18T09:26:58.662Z"
   },
   {
    "duration": 85,
    "start_time": "2024-06-18T09:26:59.758Z"
   },
   {
    "duration": 1149,
    "start_time": "2024-06-18T09:27:39.770Z"
   },
   {
    "duration": 5,
    "start_time": "2024-06-18T09:32:41.992Z"
   },
   {
    "duration": 10,
    "start_time": "2024-06-18T09:32:42.242Z"
   },
   {
    "duration": 4,
    "start_time": "2024-06-18T09:32:42.736Z"
   },
   {
    "duration": 5,
    "start_time": "2024-06-18T09:32:43.115Z"
   },
   {
    "duration": 5,
    "start_time": "2024-06-18T09:32:43.319Z"
   },
   {
    "duration": 10,
    "start_time": "2024-06-18T09:32:44.829Z"
   },
   {
    "duration": 8,
    "start_time": "2024-06-18T09:32:44.841Z"
   },
   {
    "duration": 76,
    "start_time": "2024-06-18T09:32:44.851Z"
   },
   {
    "duration": 686,
    "start_time": "2024-06-18T09:32:54.554Z"
   },
   {
    "duration": 749,
    "start_time": "2024-06-18T09:38:24.976Z"
   },
   {
    "duration": 6,
    "start_time": "2024-06-18T09:39:07.547Z"
   },
   {
    "duration": 10,
    "start_time": "2024-06-18T09:39:08.168Z"
   },
   {
    "duration": 3,
    "start_time": "2024-06-18T09:39:08.982Z"
   },
   {
    "duration": 6,
    "start_time": "2024-06-18T09:39:09.195Z"
   },
   {
    "duration": 3,
    "start_time": "2024-06-18T09:39:09.375Z"
   },
   {
    "duration": 10,
    "start_time": "2024-06-18T09:39:09.610Z"
   },
   {
    "duration": 7,
    "start_time": "2024-06-18T09:39:09.982Z"
   },
   {
    "duration": 76,
    "start_time": "2024-06-18T09:39:10.151Z"
   },
   {
    "duration": 1021,
    "start_time": "2024-06-18T09:39:10.799Z"
   },
   {
    "duration": 1141,
    "start_time": "2024-06-18T09:40:54.799Z"
   },
   {
    "duration": 1006,
    "start_time": "2024-06-21T08:22:03.266Z"
   },
   {
    "duration": 7,
    "start_time": "2024-06-21T08:22:04.274Z"
   },
   {
    "duration": 12,
    "start_time": "2024-06-21T08:22:04.282Z"
   },
   {
    "duration": 3,
    "start_time": "2024-06-21T08:22:04.295Z"
   },
   {
    "duration": 10,
    "start_time": "2024-06-21T08:22:04.300Z"
   },
   {
    "duration": 3,
    "start_time": "2024-06-21T08:22:04.311Z"
   },
   {
    "duration": 11,
    "start_time": "2024-06-21T08:22:04.316Z"
   },
   {
    "duration": 9,
    "start_time": "2024-06-21T08:22:04.328Z"
   },
   {
    "duration": 104,
    "start_time": "2024-06-21T08:22:04.339Z"
   },
   {
    "duration": 987,
    "start_time": "2024-06-21T08:22:04.445Z"
   },
   {
    "duration": 813,
    "start_time": "2024-06-21T08:22:05.433Z"
   }
  ],
  "kernelspec": {
   "display_name": "Python 3 (ipykernel)",
   "language": "python",
   "name": "python3"
  },
  "language_info": {
   "codemirror_mode": {
    "name": "ipython",
    "version": 3
   },
   "file_extension": ".py",
   "mimetype": "text/x-python",
   "name": "python",
   "nbconvert_exporter": "python",
   "pygments_lexer": "ipython3",
   "version": "3.9.5"
  },
  "toc": {
   "base_numbering": 1,
   "nav_menu": {},
   "number_sections": true,
   "sideBar": true,
   "skip_h1_title": true,
   "title_cell": "Table of Contents",
   "title_sidebar": "Contents",
   "toc_cell": false,
   "toc_position": {},
   "toc_section_display": true,
   "toc_window_display": false
  }
 },
 "nbformat": 4,
 "nbformat_minor": 5
}
